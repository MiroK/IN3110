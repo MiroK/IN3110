{
 "cells": [
  {
   "cell_type": "markdown",
   "id": "2ed09f07",
   "metadata": {},
   "source": [
    "# Text processing with regular expressions #\n",
    "\n",
    "In this lecture we will discuss extracting information from strings/pieces of text. By information we mean here a substring which satisfies certain specifications, e.g. it represents a number or valid email address. We will see that this task can sometimes get quickly out of hand - capturing all the corner cases will lead to code which maybe hard to read and maintain. This is where regular expression will enter the stage to save the day. "
   ]
  },
  {
   "cell_type": "markdown",
   "id": "126a4aaf",
   "metadata": {},
   "source": [
    "## String methods\n",
    "Recall the previously seen methods of `str` objects\n",
    "```python\n",
    "str.find\n",
    "str.index\n",
    "str.count\n",
    "str.replace\n",
    "```\n",
    "which are suitable for working with specifications given by fixed characters. For example, a simple re-implementation of `os.path.splitext` could read"
   ]
  },
  {
   "cell_type": "code",
   "execution_count": 13,
   "id": "64cba1a0",
   "metadata": {},
   "outputs": [
    {
     "name": "stdout",
     "output_type": "stream",
     "text": [
      "None None\n",
      "('foo', '.bar') ('foo', '.bar')\n",
      "('foobar', '.txt') ('foo.bar', '.txt')\n"
     ]
    }
   ],
   "source": [
    "import os\n",
    "\n",
    "def splitext(path):\n",
    "    '''Naive split extension in path'''\n",
    "    if path.count('.') == 0:\n",
    "        return None\n",
    "    # Unpack the list as list[:-1], list[-1]\n",
    "    *noext, ext = path.split('.')\n",
    "    return (''.join(noext), f'.{ext}')\n",
    "\n",
    "print(splitext('foo_bar'), splitext('foo_bar'))\n",
    "print(splitext('foo.bar'), os.path.splitext('foo.bar'))\n",
    "print(splitext('foo.bar.txt'), os.path.splitext('foo.bar.txt'))"
   ]
  },
  {
   "cell_type": "markdown",
   "id": "695c3ad7",
   "metadata": {},
   "source": [
    "### What is a number?\n",
    "What if the specifications are not as easy to define? In the following we will attempt to write a fuction which return a list of numbers contained in a string. Before finding many we shold be able to find just one."
   ]
  },
  {
   "cell_type": "code",
   "execution_count": 24,
   "id": "b6ebf4fc",
   "metadata": {},
   "outputs": [
    {
     "name": "stdout",
     "output_type": "stream",
     "text": [
      "False\n",
      "True\n",
      "True\n"
     ]
    }
   ],
   "source": [
    "# Our first definition motivated by integers\n",
    "def only_digits(string):\n",
    "    if set(string) <= {'0', '1', '2', '3', '4', '5', '6', '7', '8', '9'}:\n",
    "        return True\n",
    "    return False\n",
    "\n",
    "print(only_digits('123a'))\n",
    "print(only_digits('123'))\n",
    "\n",
    "# But what about negative numbers\n",
    "def is_integer(string):\n",
    "    if len(string) == 1:\n",
    "        return only_digits(string)\n",
    "    maybe_sign, rest = string[0], string[1:]\n",
    "    if maybe_sign == '-' and only_digits(rest):\n",
    "        return True\n",
    "    \n",
    "    return only_digits(string)\n",
    "    \n",
    "print(is_integer('-123'))"
   ]
  },
  {
   "cell_type": "markdown",
   "id": "17703327",
   "metadata": {},
   "source": [
    "But what about `floats`, 0.234 and scientific formating 0.234E-04. We could probably handle all these after a while but here we will settle for a different approach: a number string is that string which can be converted to a number "
   ]
  },
  {
   "cell_type": "code",
   "execution_count": 22,
   "id": "2688cff7",
   "metadata": {},
   "outputs": [
    {
     "name": "stdout",
     "output_type": "stream",
     "text": [
      "True\n"
     ]
    }
   ],
   "source": [
    "def is_number(string):\n",
    "    '''It is a number if it can be converted'''\n",
    "    try:\n",
    "        float(string)\n",
    "        return True\n",
    "    except ValueError:\n",
    "        return False\n",
    "    \n",
    "print(is_number(-3.43E-02))"
   ]
  },
  {
   "cell_type": "markdown",
   "id": "d406f0c9",
   "metadata": {},
   "source": [
    "So far we have considered strings that were either number or not. But what if the strings are more involved. For example let us consider some string encoding wind speed and temperature 'wind27temperature-32'. We don't expect \n",
    "```python\n",
    "is_number('wind27temperature32')\n",
    "```\n",
    "to work but we could start building a solution on this function."
   ]
  },
  {
   "cell_type": "code",
   "execution_count": 26,
   "id": "84f2e739",
   "metadata": {},
   "outputs": [
    {
     "data": {
      "text/plain": [
       "False"
      ]
     },
     "execution_count": 26,
     "metadata": {},
     "output_type": "execute_result"
    }
   ],
   "source": [
    "is_number('wind27temperature32')"
   ]
  },
  {
   "cell_type": "code",
   "execution_count": 30,
   "id": "399ecbf3",
   "metadata": {},
   "outputs": [
    {
     "name": "stdout",
     "output_type": "stream",
     "text": [
      "['27', '32']\n",
      "['27', '42.23423']\n"
     ]
    }
   ],
   "source": [
    "def find_numbers(string):\n",
    "    numbers = []\n",
    "    first, n = 0, len(string)\n",
    "    while first < n:\n",
    "        maybe = string[first:first+1]\n",
    "        # If we have a number, grow it as much as possible\n",
    "        if is_number(maybe):\n",
    "            last = first\n",
    "            while last < n and is_number(string[first:last+1]):\n",
    "                maybe = string[first:last+1]\n",
    "                last += 1\n",
    "            numbers.append(maybe)\n",
    "            first = last\n",
    "        else:\n",
    "            first += 1\n",
    "            \n",
    "    return numbers\n",
    "print(find_numbers('wind27temperature32'))\n",
    "print(find_numbers('wind27temperature42.23423'))"
   ]
  },
  {
   "cell_type": "markdown",
   "id": "38d88549",
   "metadata": {},
   "source": [
    "So this looks promising but what about negetive temperatures and that scientific formatting again?"
   ]
  },
  {
   "cell_type": "code",
   "execution_count": 31,
   "id": "9125e008",
   "metadata": {},
   "outputs": [
    {
     "name": "stdout",
     "output_type": "stream",
     "text": [
      "['27', '42.234', '23']\n"
     ]
    }
   ],
   "source": [
    "print(find_numbers('wind27temperature-42.234E-23'))\n"
   ]
  },
  {
   "cell_type": "markdown",
   "id": "eb51fe93",
   "metadata": {},
   "source": [
    "Not quite what we want ... .The problem above was matching on the smallest strings so (-) is ignore because it is alone and we don't include 42.234E-23 because \"42.234E\" is `False` according to `is_number`. We are back to the drawing board."
   ]
  },
  {
   "cell_type": "code",
   "execution_count": 34,
   "id": "fed24652",
   "metadata": {},
   "outputs": [
    {
     "name": "stdout",
     "output_type": "stream",
     "text": [
      "['-42.234E-23', '27']\n",
      "['-42.234E-23 ', '27', '-42.234e123', '27']\n"
     ]
    }
   ],
   "source": [
    "def get_substrings(string):\n",
    "    '''Generated substring of string order by descending ize'''\n",
    "    substrings = []\n",
    "    n = len(string)\n",
    "    for subl in range(n-1, 0, -1):\n",
    "        for i in range(n+1-subl):\n",
    "            substrings.append(string[i:i+subl])\n",
    "    return substrings\n",
    "\n",
    "\n",
    "def find_numbers1(string):\n",
    "    '''Match from largest'''\n",
    "    if not string:\n",
    "        return []\n",
    "\n",
    "    if is_number(string):\n",
    "        return [string]\n",
    "\n",
    "    numbers = []\n",
    "    for substring in get_substrings(string):\n",
    "        # print(substring, is_number(substring))\n",
    "        # For a match we clip the string and as for matches in the neighbors\n",
    "        if is_number(substring):\n",
    "            numbers.append(substring)\n",
    "            # print('->', substring, string[:string.index(substring)], string[string.index(substring)+len(substring):])\n",
    "            numbers.extend(find_numbers1(string[:string.index(substring)]))\n",
    "            numbers.extend(find_numbers1(string[string.index(substring)+len(substring):]))\n",
    "            break\n",
    "    return numbers\n",
    "            \n",
    "print(find_numbers1('wind27temperature-42.234E-23'))\n",
    "print(find_numbers1('wind27temperature-42.234E-23 wind27temperature-42.234e123'))"
   ]
  },
  {
   "cell_type": "markdown",
   "id": "bedf5914",
   "metadata": {},
   "source": [
    "This seems to work but (while it may have been fun to write this code) you should have a feeling that [There must be a better way](https://fullstackfeed.com/there-must-be-a-better-way-raymond-hettinger-python/). "
   ]
  },
  {
   "cell_type": "markdown",
   "id": "c75b7a96",
   "metadata": {},
   "source": [
    "# Regular expressions\n",
    "- sequence of characters that defines a search pattern\n",
    "- the pattern is parsed/interpretted in a special way (similar to programming language)\n",
    "- they are not unique to Python, see [RegEx](https://regex101.com/)\n",
    "- in Python the functionality for RegEx is provided in the [re](https://docs.python.org/3/library/re.html) module \n",
    "\n",
    "Here we will demonstrate the basics of regex syntex using the top-level function `re.search` and return to more of the module's functions later\n",
    "```python\n",
    "re.search(pattern:str, string:str) -> re.Match or None\n",
    "```"
   ]
  },
  {
   "cell_type": "markdown",
   "id": "90ad95f5",
   "metadata": {},
   "source": [
    "## Specifying the pattern"
   ]
  },
  {
   "cell_type": "markdown",
   "id": "f125716c",
   "metadata": {},
   "source": [
    "## Additional Resources ##\n",
    "\n",
    "Videos from Simon Funke from previous editions of the course\n",
    "\n",
    "- [Regex 1](https://www.youtube.com/watch?v=ma93hpNFXZM)\n",
    "- [Regex 2](https://www.youtube.com/watch?v=B6XoKtQA2Fc)\n",
    "- [Regex 3](https://www.youtube.com/watch?v=jxNLY0L_N78)\n",
    "- [Regex 4](https://www.youtube.com/watch?v=j1jW5EF5jfs)\n",
    "\n",
    "RegEx [golf](https://nbviewer.org/url/norvig.com/ipython/xkcd1313.ipynb) by Google's Peter Norvig."
   ]
  },
  {
   "cell_type": "code",
   "execution_count": null,
   "id": "5c8d8dad",
   "metadata": {},
   "outputs": [],
   "source": []
  }
 ],
 "metadata": {
  "kernelspec": {
   "display_name": "Python 3 (ipykernel)",
   "language": "python",
   "name": "python3"
  },
  "language_info": {
   "codemirror_mode": {
    "name": "ipython",
    "version": 3
   },
   "file_extension": ".py",
   "mimetype": "text/x-python",
   "name": "python",
   "nbconvert_exporter": "python",
   "pygments_lexer": "ipython3",
   "version": "3.8.13"
  }
 },
 "nbformat": 4,
 "nbformat_minor": 5
}

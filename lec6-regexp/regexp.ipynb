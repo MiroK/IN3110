{
 "cells": [
  {
   "cell_type": "markdown",
   "id": "bdb19277",
   "metadata": {},
   "source": [
    "# Text processing with regular expressions #\n",
    "\n",
    "In this lecture we will discuss extracting information from strings/pieces of text. By information we mean here a substring which satisfies certain specifications, e.g. it represents a number or valid email address. We will see that this task can sometimes get quickly out of hand - capturing all the corner cases will lead to code which maybe hard to read and maintain. This is where regular expression will enter the stage to save the day. "
   ]
  },
  {
   "cell_type": "markdown",
   "id": "94d69bda",
   "metadata": {},
   "source": [
    "## String methods\n",
    "Recall the previously seen methods of `str` objects\n",
    "```python\n",
    "str.find\n",
    "str.index\n",
    "str.count\n",
    "str.replace\n",
    "```\n",
    "which are suitable for working with specifications given by fixed characters. For example, a simple re-implementation of `os.path.splitext` could read"
   ]
  },
  {
   "cell_type": "code",
   "execution_count": 13,
   "id": "6cbf8912",
   "metadata": {},
   "outputs": [
    {
     "name": "stdout",
     "output_type": "stream",
     "text": [
      "None None\n",
      "('foo', '.bar') ('foo', '.bar')\n",
      "('foobar', '.txt') ('foo.bar', '.txt')\n"
     ]
    }
   ],
   "source": [
    "import os\n",
    "\n",
    "def splitext(path):\n",
    "    '''Naive split extension in path'''\n",
    "    if path.count('.') == 0:\n",
    "        return None\n",
    "    # Unpack the list as list[:-1], list[-1]\n",
    "    *noext, ext = path.split('.')\n",
    "    return (''.join(noext), f'.{ext}')\n",
    "\n",
    "print(splitext('foo_bar'), splitext('foo_bar'))\n",
    "print(splitext('foo.bar'), os.path.splitext('foo.bar'))\n",
    "print(splitext('foo.bar.txt'), os.path.splitext('foo.bar.txt'))"
   ]
  },
  {
   "cell_type": "markdown",
   "id": "0869a299",
   "metadata": {},
   "source": [
    "### What is a number?\n",
    "What if the specifications are not as easy to define? In the following we will attempt to write a fuction which returns a list of numbers contained in a string. Before finding many we shold be able to find just one."
   ]
  },
  {
   "cell_type": "code",
   "execution_count": 24,
   "id": "89279988",
   "metadata": {},
   "outputs": [
    {
     "name": "stdout",
     "output_type": "stream",
     "text": [
      "False\n",
      "True\n",
      "True\n"
     ]
    }
   ],
   "source": [
    "# Our first definition motivated by integers\n",
    "def only_digits(string):\n",
    "    if set(string) <= {'0', '1', '2', '3', '4', '5', '6', '7', '8', '9'}:\n",
    "        return True\n",
    "    return False\n",
    "\n",
    "print(only_digits('123a'))\n",
    "print(only_digits('123'))\n",
    "\n",
    "# But what about negative numbers\n",
    "def is_integer(string):\n",
    "    if len(string) == 1:\n",
    "        return only_digits(string)\n",
    "    maybe_sign, rest = string[0], string[1:]\n",
    "    if maybe_sign == '-' and only_digits(rest):\n",
    "        return True\n",
    "    \n",
    "    return only_digits(string)\n",
    "    \n",
    "print(is_integer('-123'))"
   ]
  },
  {
   "cell_type": "markdown",
   "id": "80018bd8",
   "metadata": {},
   "source": [
    "But what about `floats`, 0.234 and scientific formating 0.234E-04. We could probably handle all these after a while but here we will settle for a different approach: a number string is that string which can be converted to a number "
   ]
  },
  {
   "cell_type": "code",
   "execution_count": 22,
   "id": "721a4e9c",
   "metadata": {},
   "outputs": [
    {
     "name": "stdout",
     "output_type": "stream",
     "text": [
      "True\n"
     ]
    }
   ],
   "source": [
    "def is_number(string):\n",
    "    '''It is a number if it can be converted'''\n",
    "    try:\n",
    "        float(string)\n",
    "        return True\n",
    "    except ValueError:\n",
    "        return False\n",
    "    \n",
    "print(is_number(-3.43E-02))"
   ]
  },
  {
   "cell_type": "markdown",
   "id": "1d33431d",
   "metadata": {},
   "source": [
    "So far we have considered strings that were either number or not. But what if the strings are more involved. For example let us consider some string encoding wind speed and temperature 'wind27temperature-32'. We don't expect \n",
    "```python\n",
    "is_number('wind27temperature32')\n",
    "```\n",
    "to work but we could start building a solution on this function."
   ]
  },
  {
   "cell_type": "code",
   "execution_count": 26,
   "id": "351db07e",
   "metadata": {},
   "outputs": [
    {
     "data": {
      "text/plain": [
       "False"
      ]
     },
     "execution_count": 26,
     "metadata": {},
     "output_type": "execute_result"
    }
   ],
   "source": [
    "is_number('wind27temperature32')"
   ]
  },
  {
   "cell_type": "code",
   "execution_count": 30,
   "id": "3a7e328a",
   "metadata": {},
   "outputs": [
    {
     "name": "stdout",
     "output_type": "stream",
     "text": [
      "['27', '32']\n",
      "['27', '42.23423']\n"
     ]
    }
   ],
   "source": [
    "def find_numbers(string):\n",
    "    numbers = []\n",
    "    first, n = 0, len(string)\n",
    "    while first < n:\n",
    "        maybe = string[first:first+1]\n",
    "        # If we have a number, grow it as much as possible\n",
    "        if is_number(maybe):\n",
    "            last = first\n",
    "            while last < n and is_number(string[first:last+1]):\n",
    "                maybe = string[first:last+1]\n",
    "                last += 1\n",
    "            numbers.append(maybe)\n",
    "            first = last\n",
    "        else:\n",
    "            first += 1\n",
    "            \n",
    "    return numbers\n",
    "print(find_numbers('wind27temperature32'))\n",
    "print(find_numbers('wind27temperature42.23423'))"
   ]
  },
  {
   "cell_type": "markdown",
   "id": "e265a004",
   "metadata": {},
   "source": [
    "So this looks promising but what about negetive temperatures and that scientific formatting again?"
   ]
  },
  {
   "cell_type": "code",
   "execution_count": 201,
   "id": "952ab07b",
   "metadata": {},
   "outputs": [
    {
     "name": "stdout",
     "output_type": "stream",
     "text": [
      "['27', '42.234', '23']\n"
     ]
    }
   ],
   "source": [
    "print(find_numbers('wind27temperature-42.234E-23'))"
   ]
  },
  {
   "cell_type": "markdown",
   "id": "2102b2e8",
   "metadata": {},
   "source": [
    "Not quite what we want ... .The problem above was matching on the smallest strings so (-) is ignore because it is alone and we don't include 42.234E-23 because \"42.234E\" is `False` according to `is_number`. We are back to the drawing board."
   ]
  },
  {
   "cell_type": "code",
   "execution_count": 202,
   "id": "2d2c5ed7",
   "metadata": {},
   "outputs": [
    {
     "name": "stdout",
     "output_type": "stream",
     "text": [
      "['-42.234E-23', '27']\n",
      "['-42.234E-23 ', '27', '-42.234e123', '27']\n"
     ]
    }
   ],
   "source": [
    "def get_substrings(string):\n",
    "    '''Generated substring of string order by descending ize'''\n",
    "    substrings = []\n",
    "    n = len(string)\n",
    "    for subl in range(n-1, 0, -1):\n",
    "        for i in range(n+1-subl):\n",
    "            substrings.append(string[i:i+subl])\n",
    "    return substrings\n",
    "\n",
    "\n",
    "def find_numbers1(string):\n",
    "    '''Match from largest'''\n",
    "    if not string:\n",
    "        return []\n",
    "\n",
    "    if is_number(string):\n",
    "        return [string]\n",
    "\n",
    "    numbers = []\n",
    "    for substring in get_substrings(string):\n",
    "        # print(substring, is_number(substring))\n",
    "        # For a match we clip the string and as for matches in the neighbors\n",
    "        if is_number(substring):\n",
    "            numbers.append(substring)\n",
    "            # print('->', substring, string[:string.index(substring)], string[string.index(substring)+len(substring):])\n",
    "            numbers.extend(find_numbers1(string[:string.index(substring)]))\n",
    "            numbers.extend(find_numbers1(string[string.index(substring)+len(substring):]))\n",
    "            break\n",
    "    return numbers\n",
    "            \n",
    "print(find_numbers1('wind27temperature-42.234E-23'))\n",
    "print(find_numbers1('wind27temperature-42.234E-23 wind27temperature-42.234e123'))"
   ]
  },
  {
   "cell_type": "markdown",
   "id": "40e2108b",
   "metadata": {},
   "source": [
    "This seems to work but (while it may have been fun to write this code) you should have a feeling that [There must be a better way](https://fullstackfeed.com/there-must-be-a-better-way-raymond-hettinger-python/). "
   ]
  },
  {
   "cell_type": "markdown",
   "id": "460a6412",
   "metadata": {},
   "source": [
    "# Regular expressions\n",
    "- sequence of characters that defines a search pattern\n",
    "- the pattern is parsed/interpretted in a special way (cf. programming language)\n",
    "- they are not unique to Python, see [RegEx](https://regex101.com/)\n",
    "- in Python the functionality for RegEx is provided in the [re](https://docs.python.org/3/library/re.html) module \n",
    "\n",
    "Here we will demonstrate the basics of regex syntax using the top-level function `re.search` and return to more of the module's functions later\n",
    "```python\n",
    "import re\n",
    "re.search(pattern:str, string:str, [flags]) -> re.Match or None\n",
    "```\n",
    "Match specifies the part of string where pattern was matched"
   ]
  },
  {
   "cell_type": "code",
   "execution_count": 42,
   "id": "64c57c88",
   "metadata": {},
   "outputs": [
    {
     "name": "stdout",
     "output_type": "stream",
     "text": [
      "<re.Match object; span=(2, 9), match='tractor'>\n",
      "<re.Match object; span=(2, 9), match='tractor'>\n",
      "<re.Match object; span=(2, 9), match='Tractor'>\n"
     ]
    }
   ],
   "source": [
    "import re\n",
    "print(re.search('tractor', 'attractor'))\n",
    "print(re.search('tractor', 'Attractor'))\n",
    "print(re.search('tractor', 'ATTractor', re.IGNORECASE))  # re.IGNORECASE is our first flag"
   ]
  },
  {
   "cell_type": "code",
   "execution_count": 203,
   "id": "35f69bfd",
   "metadata": {},
   "outputs": [
    {
     "name": "stdout",
     "output_type": "stream",
     "text": [
      "tractor\n"
     ]
    }
   ],
   "source": [
    "pattern, string = 'tractor', 'Attractor'\n",
    "match = re.search(pattern, string)\n",
    "print(string[match.start():match.end()])"
   ]
  },
  {
   "cell_type": "markdown",
   "id": "5641db16",
   "metadata": {},
   "source": [
    "And so we see that \"simple words\" specify a pattern that simply matches itself. \n",
    "However, we could already do that with `str` methods. To specify more intesting \n",
    "patterns RegEx use special syntax."
   ]
  },
  {
   "cell_type": "markdown",
   "id": "cc477319",
   "metadata": {},
   "source": [
    "## Metacharacters\n",
    "The following characters have a special meaning in defining the pattern\n",
    "```\n",
    ". ^ $ * + ? { } [ ] \\ | ( )\n",
    "```\n",
    "When one wants to match them literally they need to be escaped"
   ]
  },
  {
   "cell_type": "code",
   "execution_count": 49,
   "id": "f772e196",
   "metadata": {},
   "outputs": [
    {
     "name": "stdout",
     "output_type": "stream",
     "text": [
      "<re.Match object; span=(0, 0), match=''>\n",
      "<re.Match object; span=(1, 2), match='^'>\n"
     ]
    }
   ],
   "source": [
    "print(re.search('^', '2^6'))       # We have a match ?!\n",
    "print(re.search('\\^', '2^6'))      # Here as expected"
   ]
  },
  {
   "cell_type": "markdown",
   "id": "990d38b9",
   "metadata": {},
   "source": [
    "Square brackets delineate a character class. Characters can be listed individually ..."
   ]
  },
  {
   "cell_type": "code",
   "execution_count": 55,
   "id": "e96fcade",
   "metadata": {},
   "outputs": [
    {
     "name": "stdout",
     "output_type": "stream",
     "text": [
      "<re.Match object; span=(6, 7), match='e'>\n",
      "<re.Match object; span=(1, 2), match='o'>\n",
      "<re.Match object; span=(6, 7), match='a'>\n"
     ]
    }
   ],
   "source": [
    "print(re.search('[ea]', 'long lean'))  #  Match at e or a\n",
    "print(re.search('[oea]', 'long lean'))  #  Why did we stop here\n",
    "print(re.search('[ea]', 'long last lean'))"
   ]
  },
  {
   "cell_type": "markdown",
   "id": "0dee8bb3",
   "metadata": {},
   "source": [
    "... or given as ranges, which can be combined, ..."
   ]
  },
  {
   "cell_type": "code",
   "execution_count": 204,
   "id": "35179c8f",
   "metadata": {},
   "outputs": [
    {
     "name": "stdout",
     "output_type": "stream",
     "text": [
      "<re.Match object; span=(0, 1), match='l'>\n",
      "<re.Match object; span=(4, 5), match='7'>\n"
     ]
    }
   ],
   "source": [
    "print(re.search('[a-z]', 'life'))\n",
    "print(re.search('[a-zA-Z0-9]', '____7up'))  # Walk though here"
   ]
  },
  {
   "cell_type": "markdown",
   "id": "5773e086",
   "metadata": {},
   "source": [
    "and complemented"
   ]
  },
  {
   "cell_type": "code",
   "execution_count": 206,
   "id": "4c675613",
   "metadata": {},
   "outputs": [
    {
     "name": "stdout",
     "output_type": "stream",
     "text": [
      "<re.Match object; span=(1, 2), match='b'>\n",
      "<re.Match object; span=(0, 1), match='b'>\n",
      "None\n",
      "<re.Match object; span=(2, 3), match='7'>\n"
     ]
    }
   ],
   "source": [
    "print(re.search('[^a]', 'abc'))\n",
    "print(re.search('[^a]', 'bc'))\n",
    "print(re.search('[^a-z]', 'life'))\n",
    "print(re.search('[^a-z]', 'up7'))"
   ]
  },
  {
   "cell_type": "markdown",
   "id": "9550aa16",
   "metadata": {},
   "source": [
    "Note that metacharacters (except backslash) are not active inside a character class. \n",
    "For example we have seen a match in `re.search('^', '2^6')` because `^` means (normally) the anchor for start of a string. "
   ]
  },
  {
   "cell_type": "markdown",
   "id": "0107f86d",
   "metadata": {},
   "source": [
    "Backslash `\\` is another another metacharacter. We recall that `\\` has \n",
    "a special meaning in Python strings, e.g. '\\n', '\\t' are not simply strings of 2 characters but represent carriage return/newline \n",
    "and tab respecively. To supress this beviour we will use raw string `r\"string\"`"
   ]
  },
  {
   "cell_type": "code",
   "execution_count": 62,
   "id": "6dff6ea8",
   "metadata": {},
   "outputs": [
    {
     "data": {
      "text/plain": [
       "(1, 2)"
      ]
     },
     "execution_count": 62,
     "metadata": {},
     "output_type": "execute_result"
    }
   ],
   "source": [
    "(len('\\n'), len(r'\\n'))"
   ]
  },
  {
   "cell_type": "markdown",
   "id": "0fca07e8",
   "metadata": {},
   "source": [
    "Speical sequences beginning with `\\`\n",
    "\n",
    "- `\\d` : matches a single character that is a digit, `[0-9]`\n",
    "- `\\w` : matches a word character, `[a-zA-Z0-9_]`  (Note the underscore)\n",
    "- `\\s` : matches a whitespace character, ` [ \\t\\n\\r\\f\\v]`\n",
    "\n",
    "And their negations\n",
    "\n",
    "- `\\D` : matches a single character that is a not digit, `[^0-9]`\n",
    "- `\\W` : matches a non-word character, `[^a-zA-Z0-9_]`\n",
    "- `\\S` : matches a non-whitespace character, ` [^ \\t\\n\\r\\f\\v]`\n",
    "\n",
    "Note that these preserve their meaning inside character classes"
   ]
  },
  {
   "cell_type": "code",
   "execution_count": 207,
   "id": "3435fb29",
   "metadata": {},
   "outputs": [
    {
     "data": {
      "text/plain": [
       "<re.Match object; span=(6, 7), match='3'>"
      ]
     },
     "execution_count": 207,
     "metadata": {},
     "output_type": "execute_result"
    }
   ],
   "source": [
    "re.search('[\\d+.\\d+]', 'asasd 323.23')   # Walk through"
   ]
  },
  {
   "cell_type": "markdown",
   "id": "5979400e",
   "metadata": {},
   "source": [
    "Other special characters\n",
    "- `.`  matches any character except a newline\n",
    "- `|` the OR operator"
   ]
  },
  {
   "cell_type": "code",
   "execution_count": 67,
   "id": "3253b6df",
   "metadata": {},
   "outputs": [
    {
     "name": "stdout",
     "output_type": "stream",
     "text": [
      "None\n",
      "<re.Match object; span=(0, 1), match=' '>\n",
      "<re.Match object; span=(0, 1), match=' '>\n",
      "None\n",
      "<re.Match object; span=(2, 3), match='b'>\n"
     ]
    }
   ],
   "source": [
    "print(re.search('.', '\\n'))\n",
    "print(re.search('.', ' '))\n",
    "print(re.search('.', ' vv'))\n",
    "\n",
    "print(re.search('a|b', 'xerox'))\n",
    "print(re.search('a|b', 'vibe'))"
   ]
  },
  {
   "cell_type": "markdown",
   "id": "da0b0fe8",
   "metadata": {},
   "source": [
    "## Anchors\n",
    "\n",
    "Characters for specifing position or RE within the string \n",
    "- `^` match at the beginning of the string (but `re.MULTILINE`)\n",
    "- `\\A` matches only at the start of the string\n",
    "- `$` match at the end of string (but `re.MULTILINE`)\n",
    "- `\\Z` matches only at the start of the string\n",
    "- `\\b` word boundary\n",
    "- `\\B` not word boundary"
   ]
  },
  {
   "cell_type": "code",
   "execution_count": 208,
   "id": "ac344b84",
   "metadata": {},
   "outputs": [
    {
     "name": "stdout",
     "output_type": "stream",
     "text": [
      "None\n",
      "<re.Match object; span=(5, 6), match='a'>\n",
      "<re.Match object; span=(1, 2), match='a'>\n",
      "None\n",
      "<re.Match object; span=(0, 3), match='all'>\n",
      "None\n",
      "<re.Match object; span=(0, 3), match='all'>\n"
     ]
    }
   ],
   "source": [
    "print(re.search('^a', 'ball'))\n",
    "print(re.search('^a', 'ball\\nall', re.MULTILINE))\n",
    "print(re.search('a', 'ball'))\n",
    "# NOTE: '\\b' is the bell character hence r'...'\n",
    "print(re.search(r'\\ball\\b', 'ballistic'))\n",
    "print(re.search(r'\\ball\\b', 'all'))\n",
    "print(re.search(r'\\ball\\b', 'allabama'))\n",
    "print(re.search(r'\\ball\\B', 'allabama'))"
   ]
  },
  {
   "cell_type": "markdown",
   "id": "8f7e75a4",
   "metadata": {},
   "source": [
    "## Repeating patterns\n",
    "\n",
    "**Quantifiers**\n",
    "\n",
    "The characters `*`, `+`, `?` and `{}` are reserved as quantifiers.\n",
    "\n",
    "For example, \n",
    "- `*` 0 or more occurances of previous character/RE\n",
    "- `+` 1 or more occurances or previous character/RE\n",
    "- `?` 0 or 1 occurances of previous character/RE\n",
    "- `{n}` exactly `n` occurances of previous character/RE\n",
    "- `{n,}` at least `n` occurances\n",
    "- `{n, m}` n to m (included) occurances \n",
    "\n",
    "__Question__: \n",
    "1. What is the equivalent of `{0, }`\n",
    "2. What is the equivalent of `{1, }`"
   ]
  },
  {
   "cell_type": "code",
   "execution_count": 105,
   "id": "070a8246",
   "metadata": {},
   "outputs": [
    {
     "name": "stdout",
     "output_type": "stream",
     "text": [
      "<re.Match object; span=(0, 0), match=''>\n",
      "None\n",
      "<re.Match object; span=(7, 8), match='i'>\n",
      "<re.Match object; span=(3, 4), match='i'>\n"
     ]
    }
   ],
   "source": [
    "print(re.search('i*', 'team'))\n",
    "print(re.search('i+', 'team'))\n",
    "print(re.search('i+', 'team spirit'))\n",
    "print(re.search(r'\\B(i{1})\\B', 'spxirit'))"
   ]
  },
  {
   "cell_type": "code",
   "execution_count": 107,
   "id": "86502e0a",
   "metadata": {},
   "outputs": [
    {
     "name": "stdout",
     "output_type": "stream",
     "text": [
      "<re.Match object; span=(1, 3), match='ea'>\n",
      "None\n",
      "<re.Match object; span=(3, 5), match='71'>\n"
     ]
    }
   ],
   "source": [
    "# With classes\n",
    "print(re.search('[aeiou]+', 'team'))\n",
    "print(re.search('[aeuio]+', 'lynx'))\n",
    "print(re.search('[\\d]+', 'SR 71'))"
   ]
  },
  {
   "cell_type": "markdown",
   "id": "36bdf8c0",
   "metadata": {},
   "source": [
    "**Greedines**\n",
    "\n",
    "With operators `*`, `+` the resulting action is to consume as much of the pattern as possible/will match with the longest string they can find. That is"
   ]
  },
  {
   "cell_type": "code",
   "execution_count": 109,
   "id": "dd462d4e",
   "metadata": {},
   "outputs": [
    {
     "name": "stdout",
     "output_type": "stream",
     "text": [
      "<re.Match object; span=(0, 32), match='<html><head><title>Title</title>'>\n"
     ]
    }
   ],
   "source": [
    "# Pattern strarting with < followed by any number of non-newline charancters followed by >\n",
    "print(re.search('<.*>', '<html><head><title>Title</title>'))\n",
    "#                        |start                         |stop     in greedy way"
   ]
  },
  {
   "cell_type": "code",
   "execution_count": 110,
   "id": "51267ee3",
   "metadata": {},
   "outputs": [
    {
     "name": "stdout",
     "output_type": "stream",
     "text": [
      "<re.Match object; span=(0, 6), match='<html>'>\n"
     ]
    }
   ],
   "source": [
    "print(re.search('<.*?>', '<html><head><title>Title</title>'))\n",
    "#                        |start|stop     in non-greedy way stop at first match"
   ]
  },
  {
   "cell_type": "markdown",
   "id": "82fc70ac",
   "metadata": {},
   "source": [
    "## Grouping and capturing\n",
    "\n",
    "Placing parts of the regex inside `()` will group that part of the regex together. Let's look for groups of digits"
   ]
  },
  {
   "cell_type": "code",
   "execution_count": 124,
   "id": "28ab4db3",
   "metadata": {},
   "outputs": [],
   "source": [
    "# Say you have a phone number of the for XXX-YYYY\n",
    "match = re.search('(\\d{3})-(\\d{4})', '123-3333')"
   ]
  },
  {
   "cell_type": "code",
   "execution_count": 128,
   "id": "567529cd",
   "metadata": {},
   "outputs": [
    {
     "name": "stdout",
     "output_type": "stream",
     "text": [
      "('123', '3333')\n",
      "123-3333\n",
      "123\n",
      "3333\n"
     ]
    }
   ],
   "source": [
    "print(match.groups())\n",
    "print(match.group(0))  # Entire match\n",
    "print(match.group(1))  # Get the group by order (staring from 1)\n",
    "print(match.group(2))"
   ]
  },
  {
   "cell_type": "markdown",
   "id": "71118be6",
   "metadata": {},
   "source": [
    "We can use reffer back to captured groups to build up patterns"
   ]
  },
  {
   "cell_type": "code",
   "execution_count": 132,
   "id": "2e130331",
   "metadata": {},
   "outputs": [
    {
     "name": "stdout",
     "output_type": "stream",
     "text": [
      "None\n",
      "<re.Match object; span=(0, 12), match='123-3333-123'>\n"
     ]
    }
   ],
   "source": [
    "# The first match shold be repeated\n",
    "print(re.search(r'(\\d{3})-(\\d{4})-\\1', '123-3333-444'))\n",
    "print(re.search(r'(\\d{3})-(\\d{4})-\\1', '123-3333-123'))"
   ]
  },
  {
   "cell_type": "markdown",
   "id": "5ff6987a",
   "metadata": {},
   "source": [
    "With many groups it might be convenient to name them, define `(?P<name>)`, refer `(?P=name)` "
   ]
  },
  {
   "cell_type": "code",
   "execution_count": 209,
   "id": "2bf4f28b",
   "metadata": {},
   "outputs": [
    {
     "name": "stdout",
     "output_type": "stream",
     "text": [
      "123 3333\n",
      "<re.Match object; span=(0, 12), match='123-3333-123'>\n",
      "('123', '3333')\n"
     ]
    }
   ],
   "source": [
    "match = re.search('(?P<area>\\d{3})-(?P<extension>\\d{4})', '123-3333')\n",
    "print(match.group('area'), match.group('extension'))\n",
    "\n",
    "match = re.search('(?P<area>\\d{3})-(?P<extension>\\d{4})-(?P=area)', '123-3333-123')\n",
    "print(match)\n",
    "print(match.groups())"
   ]
  },
  {
   "cell_type": "markdown",
   "id": "7921c413",
   "metadata": {},
   "source": [
    "Sometimes we might not want to capture/skip the group, `(?:...)`"
   ]
  },
  {
   "cell_type": "code",
   "execution_count": 154,
   "id": "ff1e7710",
   "metadata": {},
   "outputs": [
    {
     "name": "stdout",
     "output_type": "stream",
     "text": [
      "<re.Match object; span=(0, 12), match='123-3333-123'>\n",
      "('123',)\n"
     ]
    }
   ],
   "source": [
    "match = re.search('(?P<area>\\d{3})-(?:\\d{4})-(?P=area)', '123-3333-123')\n",
    "print(match)\n",
    "print(match.groups())"
   ]
  },
  {
   "cell_type": "markdown",
   "id": "f5acc383",
   "metadata": {},
   "source": [
    "## Lookahead and Lookbehind assertions\n",
    "\n",
    "`(?=<lookahead_regex>)` asserts that what follows the regex parser’s current position must match `<lookahead_regex>`"
   ]
  },
  {
   "cell_type": "code",
   "execution_count": 214,
   "id": "9d001110",
   "metadata": {},
   "outputs": [
    {
     "name": "stdout",
     "output_type": "stream",
     "text": [
      "None\n",
      "<re.Match object; span=(0, 4), match='123-'>\n",
      "()\n"
     ]
    }
   ],
   "source": [
    "# Match pattern of 3 digits if they are followed by 4 letter string\n",
    "pattern = '\\d{3}-(?=[a-zA-Z]{4})'\n",
    "print(re.search(pattern, '123-4568'))\n",
    "\n",
    "match = re.search(pattern, '123-miro')\n",
    "print(match)\n",
    "print(match.groups())"
   ]
  },
  {
   "cell_type": "code",
   "execution_count": 215,
   "id": "4543ac04",
   "metadata": {},
   "outputs": [
    {
     "name": "stdout",
     "output_type": "stream",
     "text": [
      "<re.Match object; span=(0, 4), match='123-'>\n"
     ]
    },
    {
     "data": {
      "text/plain": [
       "('123', 'miro')"
      ]
     },
     "execution_count": 215,
     "metadata": {},
     "output_type": "execute_result"
    }
   ],
   "source": [
    "# We can again name groups\n",
    "match = re.search('(\\d{3})-(?=(?P<name>[a-zA-Z]{4}))', '123-miro')\n",
    "print(match)\n",
    "match.group(1, 'name')"
   ]
  },
  {
   "cell_type": "markdown",
   "id": "35e8d71b",
   "metadata": {},
   "source": [
    "`(?<=<lookbehind_regex>)` asserts that what precedes the regex parser’s current position must match `<lookbehind_regex>`"
   ]
  },
  {
   "cell_type": "code",
   "execution_count": 217,
   "id": "1de2558c",
   "metadata": {},
   "outputs": [
    {
     "name": "stdout",
     "output_type": "stream",
     "text": [
      "None\n",
      "<re.Match object; span=(4, 8), match=':123'>\n"
     ]
    },
    {
     "data": {
      "text/plain": [
       "('miro', '123')"
      ]
     },
     "execution_count": 217,
     "metadata": {},
     "output_type": "execute_result"
    }
   ],
   "source": [
    "# Match the 3 digits if they are preceed by string of 4 letters\n",
    "pattern = '(?<=(?P<name>^[a-zA-Z]{4})):(?P<phone>\\d{3})'\n",
    "match = re.search(pattern, 'miroslav:123')\n",
    "print(match)  # Note that we are getting the match on the digits\n",
    "\n",
    "match = re.search(pattern, 'miro:123')\n",
    "print(match)\n",
    "match.group('name', 'phone')"
   ]
  },
  {
   "cell_type": "markdown",
   "id": "f9f7aa35",
   "metadata": {},
   "source": [
    "## Verbose patterns\n",
    "Regular expression can become long and convoluted in which case it comes in handy to be able to document them. To this end we can use the `re.VERBOSE` flag. Suppose we want to parse phone numbers of the form `(area code) 4digits 4digits`"
   ]
  },
  {
   "cell_type": "code",
   "execution_count": 157,
   "id": "3b55150a",
   "metadata": {},
   "outputs": [],
   "source": [
    "pattern = r'\\((\\d{3})\\)\\D*(\\d{4})\\D*(\\d{4})'\n",
    "print(re.search(pattern, '800-5555-1234'))\n",
    "print(re.search(pattern, '(800)-5555-1234'))"
   ]
  },
  {
   "cell_type": "markdown",
   "id": "73a487fc",
   "metadata": {},
   "source": [
    "And now a  documented version"
   ]
  },
  {
   "cell_type": "code",
   "execution_count": 218,
   "id": "f1628a20",
   "metadata": {},
   "outputs": [
    {
     "name": "stdout",
     "output_type": "stream",
     "text": [
      "<re.Match object; span=(0, 19), match='(800)- - 5555--1234'>\n",
      "<built-in method groups of re.Match object at 0x7fa6730e7350>\n"
     ]
    }
   ],
   "source": [
    "pattern = r'''\n",
    "\\(         # Area code begins with (\n",
    "(\\d{3})    # is followed by 3 digits\n",
    "\\)         # and close area code\n",
    "\\D*        # There can be some no digits spaces until the next group\n",
    "(\\d{4})    # of four digits\n",
    "\\D*        # Again some separators\n",
    "(\\d{4})    # and finally a 4 digit group\n",
    "'''\n",
    "match = re.search(pattern, '(800)- - 5555--1234', re.VERBOSE)\n",
    "print(match)\n",
    "print(match.groups)"
   ]
  },
  {
   "cell_type": "markdown",
   "id": "e555e3a6",
   "metadata": {},
   "source": [
    "## Functions of the `re` module\n",
    "`re.search` stopped once we found a first match. All matches can be found with `re.findall`"
   ]
  },
  {
   "cell_type": "code",
   "execution_count": 162,
   "id": "3f379270",
   "metadata": {},
   "outputs": [
    {
     "name": "stdout",
     "output_type": "stream",
     "text": [
      "['a=1', 'a=2', 'a=3']\n",
      "[('a', '1'), ('a', '2'), ('a', '3')]\n"
     ]
    }
   ],
   "source": [
    "string = 'a=1 aa=2 b c aaa=3'\n",
    "print(re.findall('a=\\d+', string))\n",
    "# Contrast with the following patterns where we introduce 2 groups\n",
    "print(re.findall('(a)=(\\d+)', string))"
   ]
  },
  {
   "cell_type": "markdown",
   "id": "f151fb14",
   "metadata": {},
   "source": [
    "`re.split` lets us split the string where the pattern matched. In the following example we consider numbers whose digits form repeating patterns. These patterns are our split points."
   ]
  },
  {
   "cell_type": "code",
   "execution_count": 219,
   "id": "1ed82f38",
   "metadata": {},
   "outputs": [
    {
     "name": "stdout",
     "output_type": "stream",
     "text": [
      "0.14285714285714285714285714285714285714285714285714\n"
     ]
    },
    {
     "data": {
      "text/plain": [
       "['0.', '142857', '', '142857', '', '142857', '', '142857', '14']"
      ]
     },
     "execution_count": 219,
     "metadata": {},
     "output_type": "execute_result"
    }
   ],
   "source": [
    "import sympy as sp\n",
    "\n",
    "r = sp.Rational(1, 7)\n",
    "n = str(sp.N(r, 50))\n",
    "print(n)  # See that they repeat\n",
    "\n",
    "\n",
    "pattern = r'(\\d+?)\\1'\n",
    "re.search(pattern, n).groups()\n",
    "\n",
    "re.split(pattern, n)"
   ]
  },
  {
   "cell_type": "markdown",
   "id": "7a07ba63",
   "metadata": {},
   "source": [
    "`re.sub` will perform substitution for the matched substring. A cool feature is that we can use the groups to build the replacent string. In the following we assume string in the form `DAY MONTH YEAR` encoded respectively as 3-letter word and strings of 2 and 4 digits. We are only after the year and month in the replaced string."
   ]
  },
  {
   "cell_type": "code",
   "execution_count": 222,
   "id": "cc357c98",
   "metadata": {},
   "outputs": [
    {
     "data": {
      "text/plain": [
       "'replaced: 2022 MON'"
      ]
     },
     "execution_count": 222,
     "metadata": {},
     "output_type": "execute_result"
    }
   ],
   "source": [
    "pattern = r'([A-Z]{3}) (?:\\d{2}) (\\d{4})'\n",
    "string = 'MON 12 2022'\n",
    "re.search(pattern, string)\n",
    "re.sub(pattern, r'replaced: \\2 \\1', string)"
   ]
  },
  {
   "cell_type": "markdown",
   "id": "0511c8ff",
   "metadata": {},
   "source": [
    "So far, we have used top-level functions. A building block of these is a pattern which can be complied by `re.compile`.\n",
    "Citing the [re documentation](https://docs.python.org/3/howto/regex.html): _Under the hood, these functions simply create a pattern object for you and call the appropriate method on it. They also store the compiled object in a cache, so future calls using the same RE won’t need to parse the pattern again and again._\n",
    "\n",
    "_Should you use these module-level functions, or should you get the pattern and call its methods yourself? If you’re accessing a regex within a loop, pre-compiling it will save a few function calls. Outside of loops, there’s not much difference thanks to the internal cache._\n",
    "\n",
    "__Question__: 1. Verify the above by profiling."
   ]
  },
  {
   "cell_type": "code",
   "execution_count": null,
   "id": "cbf20d14",
   "metadata": {},
   "outputs": [],
   "source": []
  },
  {
   "cell_type": "code",
   "execution_count": null,
   "id": "36f8a8f6",
   "metadata": {},
   "outputs": [],
   "source": []
  },
  {
   "cell_type": "markdown",
   "id": "00e572fa",
   "metadata": {},
   "source": [
    "# Case studies with RegEx"
   ]
  },
  {
   "cell_type": "code",
   "execution_count": null,
   "id": "ed7ccfc8",
   "metadata": {},
   "outputs": [],
   "source": [
    "\n",
    "Questions: \n",
    "- How do you match the \"4\"?\n",
    "- How do you match everything except the \"4\"?\n",
    "- How do you match the *first* \"hat\"?\n",
    "- How many regexes can you make that matches \"ccc\" in \"abccc\"?\n",
    "\n",
    "- Take as your test string: `Norwegian: \"God dag\". Italian: \"Buongiorno\"`\n",
    "Can you match the greetings?\n",
    "\n",
    "\n",
    "***\n",
    "\n",
    "\n",
    "Question: \n",
    "- Can you make a regex that matches any character repeated twice?\n",
    "For example, your regex should match \"ee\" in \"Rita Skeeter\".\n",
    "- Can you make a regex that matches any repeated character?\n",
    "For example, your regex should match \"sss\" in \"headmistressship\".\n",
    "- Bonus: If you work on a text for a long time, you eventually become completely blind to your own mistakes. For example, my master thesis contains double \"the the\" 3 times. Can you make a regex that finds repeated words?\n",
    "\n",
    "That concludes basic regex syntax! Now onto python and regex. "
   ]
  },
  {
   "cell_type": "markdown",
   "id": "20749671",
   "metadata": {},
   "source": [
    "## Additional Resources ##\n",
    "\n",
    "Videos from Simon Funke from previous editions of the course\n",
    "\n",
    "- [Regex 1](https://www.youtube.com/watch?v=ma93hpNFXZM)\n",
    "- [Regex 2](https://www.youtube.com/watch?v=B6XoKtQA2Fc)\n",
    "- [Regex 3](https://www.youtube.com/watch?v=jxNLY0L_N78)\n",
    "- [Regex 4](https://www.youtube.com/watch?v=j1jW5EF5jfs)\n",
    "\n",
    "- RegEx [golf](https://nbviewer.org/url/norvig.com/ipython/xkcd1313.ipynb) by Google's Peter Norvig.\n",
    "- Nice [tutorial](https://realpython.com/regex-python/) on RegEx in Python "
   ]
  },
  {
   "cell_type": "code",
   "execution_count": null,
   "id": "9c6bd9ed",
   "metadata": {},
   "outputs": [],
   "source": []
  }
 ],
 "metadata": {
  "kernelspec": {
   "display_name": "Python 3 (ipykernel)",
   "language": "python",
   "name": "python3"
  },
  "language_info": {
   "codemirror_mode": {
    "name": "ipython",
    "version": 3
   },
   "file_extension": ".py",
   "mimetype": "text/x-python",
   "name": "python",
   "nbconvert_exporter": "python",
   "pygments_lexer": "ipython3",
   "version": "3.8.13"
  }
 },
 "nbformat": 4,
 "nbformat_minor": 5
}

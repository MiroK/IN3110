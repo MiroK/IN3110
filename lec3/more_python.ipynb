{
 "cells": [
  {
   "cell_type": "markdown",
   "id": "e84af5d2",
   "metadata": {},
   "source": [
    "# Advanced topics in Python programming\n",
    "\n",
    "This notebook explores (slighlty) more advanced elements of programming in Python. Among other we will look into\n",
    "- functional programming \n",
    "- iterators\n",
    "- documenting code \n",
    "- error handling"
   ]
  },
  {
   "cell_type": "markdown",
   "id": "69876d12",
   "metadata": {},
   "source": [
    "## Bits of functional programming\n",
    "\n",
    "We have seen how to define a function, i.e. give it a name\n",
    "\n",
    "```python\n",
    "def identity(x): return x\n",
    "```\n",
    "\n",
    "However, sometimes we might have use for nameless function - enter **Anonymous functions**. For example in sorting"
   ]
  },
  {
   "cell_type": "code",
   "execution_count": 1,
   "id": "859182d8",
   "metadata": {},
   "outputs": [
    {
     "data": {
      "text/plain": [
       "[(0.4680217806827539, 0.2640247756199814),\n",
       " (0.20745523428352763, 0.9848607819655609),\n",
       " (0.6650212984810511, 0.8394171643616032),\n",
       " (0.7931729718468955, 0.6133606029470903),\n",
       " (0.16228097367756666, 0.8150529076378537),\n",
       " (0.2391307452858089, 0.627600647850968),\n",
       " (0.7778880763886004, 0.8444896731311249),\n",
       " (0.8889089270093288, 0.8120149125907065),\n",
       " (0.07794477734672145, 0.4529127359837162),\n",
       " (0.7476863829089199, 0.029494246221317244)]"
      ]
     },
     "execution_count": 1,
     "metadata": {},
     "output_type": "execute_result"
    }
   ],
   "source": [
    "import random\n",
    "\n",
    "# Let's generate random pairs with the idea of sorting them later\n",
    "random_tuples = []\n",
    "for i in range(10):\n",
    "    random_tuples.append((random.random(), random.random()))\n",
    "random_tuples"
   ]
  },
  {
   "cell_type": "code",
   "execution_count": 2,
   "id": "8ff2fbe1",
   "metadata": {},
   "outputs": [
    {
     "data": {
      "text/plain": [
       "[(0.07794477734672145, 0.4529127359837162),\n",
       " (0.16228097367756666, 0.8150529076378537),\n",
       " (0.20745523428352763, 0.9848607819655609),\n",
       " (0.2391307452858089, 0.627600647850968),\n",
       " (0.4680217806827539, 0.2640247756199814),\n",
       " (0.6650212984810511, 0.8394171643616032),\n",
       " (0.7476863829089199, 0.029494246221317244),\n",
       " (0.7778880763886004, 0.8444896731311249),\n",
       " (0.7931729718468955, 0.6133606029470903),\n",
       " (0.8889089270093288, 0.8120149125907065)]"
      ]
     },
     "execution_count": 2,
     "metadata": {},
     "output_type": "execute_result"
    }
   ],
   "source": [
    "# By default tuples are sorted by considering first the first elements, then comparing the rest, i.e.\n",
    "sorted(random_tuples)"
   ]
  },
  {
   "cell_type": "code",
   "execution_count": 3,
   "id": "f0b441d7",
   "metadata": {},
   "outputs": [
    {
     "data": {
      "text/plain": [
       "[(0.07794477734672145, 0.4529127359837162),\n",
       " (0.4680217806827539, 0.2640247756199814),\n",
       " (0.2391307452858089, 0.627600647850968),\n",
       " (0.7476863829089199, 0.029494246221317244),\n",
       " (0.16228097367756666, 0.8150529076378537),\n",
       " (0.7931729718468955, 0.6133606029470903),\n",
       " (0.20745523428352763, 0.9848607819655609),\n",
       " (0.6650212984810511, 0.8394171643616032),\n",
       " (0.7778880763886004, 0.8444896731311249),\n",
       " (0.8889089270093288, 0.8120149125907065)]"
      ]
     },
     "execution_count": 3,
     "metadata": {},
     "output_type": "execute_result"
    }
   ],
   "source": [
    "# Treating them as points we might want to consider their l^2 norm\n",
    "sorted(random_tuples, key=lambda t: (t[0]**2 + t[1]**2)**0.5)"
   ]
  },
  {
   "cell_type": "markdown",
   "id": "425b3de9",
   "metadata": {},
   "source": [
    "Here `lambda` is a key word used for defining anonymous functions. It is followed by arguments. Above the function accepts one argument (referred to as t). The function body follows after `:`. Side note, $\\lambda$-calculus and its inventor [Alonzo Church](https://en.wikipedia.org/wiki/Alonzo_Church)"
   ]
  },
  {
   "cell_type": "markdown",
   "id": "284be70a",
   "metadata": {},
   "source": [
    "__In capturing variables beware of late binding__"
   ]
  },
  {
   "cell_type": "code",
   "execution_count": 4,
   "id": "4908c9a0",
   "metadata": {},
   "outputs": [
    {
     "name": "stdout",
     "output_type": "stream",
     "text": [
      "4\n",
      "4\n",
      "4\n",
      "4\n",
      "4\n"
     ]
    }
   ],
   "source": [
    "# The idea is that foos[1](x) returns x+1 \n",
    "foos = [lambda x: x+n for n in range(5)]\n",
    "# But ...\n",
    "for f in foos:\n",
    "    print(f(0))"
   ]
  },
  {
   "cell_type": "markdown",
   "id": "423c9562",
   "metadata": {},
   "source": [
    "Definition is evaluated at runtime (then n = 4) and not at definition time"
   ]
  },
  {
   "cell_type": "code",
   "execution_count": 5,
   "id": "1e280ee9",
   "metadata": {},
   "outputs": [
    {
     "name": "stdout",
     "output_type": "stream",
     "text": [
      "0\n",
      "1\n",
      "2\n",
      "3\n",
      "4\n"
     ]
    }
   ],
   "source": [
    "# Solution [referred to as currying]\n",
    "foos = [lambda x, n=n: x+n for n in range(5)]\n",
    "for f in foos:\n",
    "    print(f(0))"
   ]
  },
  {
   "cell_type": "markdown",
   "id": "44c1d80a",
   "metadata": {},
   "source": [
    "Anonymous functions are often used to build **iterators**. Here the idea is that we want to compute on demand and not all the answers at once."
   ]
  },
  {
   "cell_type": "code",
   "execution_count": 6,
   "id": "004ef550",
   "metadata": {},
   "outputs": [
    {
     "data": {
      "text/plain": [
       "<filter at 0x7fe8dc54f970>"
      ]
     },
     "execution_count": 6,
     "metadata": {},
     "output_type": "execute_result"
    }
   ],
   "source": [
    "selected = filter(lambda p: p[0] < 0.5, random_tuples)\n",
    "# Not the answers but ...\n",
    "selected"
   ]
  },
  {
   "cell_type": "code",
   "execution_count": 7,
   "id": "1b82412b",
   "metadata": {},
   "outputs": [
    {
     "data": {
      "text/plain": [
       "(0.4680217806827539, 0.2640247756199814)"
      ]
     },
     "execution_count": 7,
     "metadata": {},
     "output_type": "execute_result"
    }
   ],
   "source": [
    "# Iterator needs to be forced \n",
    "next(selected)"
   ]
  },
  {
   "cell_type": "code",
   "execution_count": 8,
   "id": "8301b0a8",
   "metadata": {},
   "outputs": [
    {
     "name": "stdout",
     "output_type": "stream",
     "text": [
      "(0.20745523428352763, 0.9848607819655609)\n",
      "(0.16228097367756666, 0.8150529076378537)\n",
      "(0.2391307452858089, 0.627600647850968)\n",
      "(0.07794477734672145, 0.4529127359837162)\n"
     ]
    }
   ],
   "source": [
    "# or consumed\n",
    "for item in selected:\n",
    "    print(item)"
   ]
  },
  {
   "cell_type": "code",
   "execution_count": 9,
   "id": "8db113be",
   "metadata": {},
   "outputs": [
    {
     "ename": "StopIteration",
     "evalue": "",
     "output_type": "error",
     "traceback": [
      "\u001b[0;31m---------------------------------------------------------------------------\u001b[0m",
      "\u001b[0;31mStopIteration\u001b[0m                             Traceback (most recent call last)",
      "Cell \u001b[0;32mIn [9], line 2\u001b[0m\n\u001b[1;32m      1\u001b[0m \u001b[38;5;66;03m# Note that we have now exhausted the iterator so that the following attempt to get the next item fails\u001b[39;00m\n\u001b[0;32m----> 2\u001b[0m \u001b[38;5;28;43mnext\u001b[39;49m\u001b[43m(\u001b[49m\u001b[43mselected\u001b[49m\u001b[43m)\u001b[49m\n",
      "\u001b[0;31mStopIteration\u001b[0m: "
     ]
    }
   ],
   "source": [
    "# Note that we have now exhausted the iterator so that the following attempt to get the next item fails\n",
    "next(selected)"
   ]
  },
  {
   "cell_type": "markdown",
   "id": "bc2ea798",
   "metadata": {},
   "source": [
    "Iterators can be combined to build processing pipelines"
   ]
  },
  {
   "cell_type": "code",
   "execution_count": null,
   "id": "6eae933c",
   "metadata": {},
   "outputs": [],
   "source": [
    " # Keep only the elements in iterable for which the function is true\n",
    "selected = filter(lambda p: p[0] < 0.5, random_tuples) \n",
    "# Apply sum function to all the elements in iterable\n",
    "processed = map(sum, selected)  \n",
    "processed"
   ]
  },
  {
   "cell_type": "markdown",
   "id": "3c73f66b",
   "metadata": {},
   "source": [
    "What is the sum of such elements ? One option is \n",
    "```python\n",
    "sum(list(processed))\n",
    "```\n",
    "Also ```sum(processed)``` would work but we want to showcase a nice module from the standard library, namely, `functools`."
   ]
  },
  {
   "cell_type": "code",
   "execution_count": null,
   "id": "a72add65",
   "metadata": {},
   "outputs": [],
   "source": [
    "# Option 1) to comsume and turn into a list\n",
    "from functools import reduce\n",
    "# combine first two items of iterable to make the input \n",
    "# for next round while the other argument is the next item in iterable\n",
    "reduce(lambda x, y: x+y, processed)"
   ]
  },
  {
   "cell_type": "markdown",
   "id": "4081c066",
   "metadata": {},
   "source": [
    "**Food for thoought:**\n",
    "1. Could we use `reduce(sum, processed)` above ?\n",
    "2. What does `functools.partial` do?"
   ]
  },
  {
   "cell_type": "markdown",
   "id": "9d08af05",
   "metadata": {},
   "source": [
    "Many useful iterators can be constucted using standard library module ``itertools``. Let's do cartesian coordinates"
   ]
  },
  {
   "cell_type": "code",
   "execution_count": null,
   "id": "af934940",
   "metadata": {},
   "outputs": [],
   "source": [
    "from itertools import product\n",
    "\n",
    "x = range(1, 5)\n",
    "y = range(4, 12)\n",
    "grid = product(x, y)\n",
    "# Get them all\n",
    "print(list(grid))"
   ]
  },
  {
   "cell_type": "markdown",
   "id": "f0ab330a",
   "metadata": {},
   "source": [
    "Another example of ondemand/lazy computations are **generators**"
   ]
  },
  {
   "cell_type": "code",
   "execution_count": null,
   "id": "bfe8edbc",
   "metadata": {},
   "outputs": [],
   "source": [
    "def fibs():\n",
    "    '''Generate Fibonacci numbers'''\n",
    "    a, b = 0, 1\n",
    "    while True:\n",
    "        a, b = a+b, a\n",
    "        yield a   # Yield keywors makes this function a generator\n",
    "\n",
    "numbers = fibs()"
   ]
  },
  {
   "cell_type": "code",
   "execution_count": null,
   "id": "f9476ec5",
   "metadata": {},
   "outputs": [],
   "source": [
    "# Let get first ten\n",
    "for i, num in zip(range(5), numbers):\n",
    "    print(i, num)\n",
    "# NOTE: zip - pairs iterables into tuples, terminating when one of them is exhaused [range(5) determines this above]\n",
    "# We can run this many times."
   ]
  },
  {
   "cell_type": "markdown",
   "id": "ce25af9f",
   "metadata": {},
   "source": [
    "As a final generator example consider the following definition. Can you guess what is the result?"
   ]
  },
  {
   "cell_type": "code",
   "execution_count": null,
   "id": "a00acd9d",
   "metadata": {},
   "outputs": [],
   "source": [
    "def count(n):\n",
    "    yield n\n",
    "    yield from count(n+1)  \n",
    "# numbers = count(-10)\n",
    "# for i in range(10):\n",
    "#     print(next(numbers))"
   ]
  },
  {
   "cell_type": "markdown",
   "id": "3cea0cc2",
   "metadata": {},
   "source": [
    "When we care about all results of pipeline it might be better/more explicit/readbable to use **comprehensions**. Here we consider list and dictionary comprehensions"
   ]
  },
  {
   "cell_type": "code",
   "execution_count": null,
   "id": "0d8aebe1",
   "metadata": {},
   "outputs": [],
   "source": [
    "with open('./data/file.txt', 'r') as stream:\n",
    "    # NOTE: with invokes a context manager. We want to manage resources;\n",
    "    # here open a file and then make sure that it is correctly closed no matter what\n",
    "    # will happen during manipulation, e.g. some error \n",
    "    lines = [float(line.strip()) for i, line in enumerate(stream) if i % 2]\n",
    "    \n",
    "    # A Dictionary comprehension, create dict mapping row number to value\n",
    "    d = {i: float(line.strip()) for i, line in enumerate(stream) if i % 2}\n",
    "\n",
    "# To be compared with \n",
    "with open('./data/file.txt', 'r') as stream:\n",
    "    iterator = map(lambda p: float(p[1].strip()), filter(lambda p: p[0] % 2, enumerate(stream)))\n",
    "    lines_ = list(iterator)\n",
    "# Check that they are the same. We will come back to the `assert` statement shortly\n",
    "assert lines == lines_"
   ]
  },
  {
   "cell_type": "markdown",
   "id": "d50258f1",
   "metadata": {},
   "source": [
    "**Food for thought:** \n",
    "1. Why is the dictionary empty while we clearly have lines as a non-empty list?\n",
    "2. What is the performance of building list by for-loop versus list comprehensions? [Consider `%%timeit` magic]"
   ]
  },
  {
   "cell_type": "code",
   "execution_count": null,
   "id": "ba0213de",
   "metadata": {},
   "outputs": [],
   "source": [
    "%%timeit\n",
    "\n",
    "def f(string):\n",
    "    return sum(map(ord, string))\n",
    "\n",
    "f('IN3110')"
   ]
  },
  {
   "cell_type": "markdown",
   "id": "586e48d7",
   "metadata": {},
   "source": [
    "## Writting cleaner functions\n",
    "\n",
    "(Personal opinion) A good function 1) does what it is supposed to do, 2) does it quickly, 3) is user/developer friendly. Here we will focus on friendlines"
   ]
  },
  {
   "cell_type": "markdown",
   "id": "6b182e85",
   "metadata": {},
   "source": [
    "Python uses so called duck-typing but we can express our intensions of the input arguments and function output by type annotations. These can be checked by `mypy` (but are not enfoced)\n",
    "\n",
    "```python\n",
    "# Following is code included in factorial.py.\n",
    "def factorial(n: int) -> int:\n",
    "    if n == 0:\n",
    "        return 1\n",
    "    return n*factorial(n-1)\n",
    "\n",
    "factorial('works?')\n",
    "```\n",
    "\n",
    "We run type analysis by\n",
    "```bash\n",
    "(in3110) mirok@evalApply:data|$ mypy factorial.py \n",
    "```"
   ]
  },
  {
   "cell_type": "markdown",
   "id": "a31edc0f",
   "metadata": {},
   "source": [
    "Role of arguments should be clarified in a docstring of a function (or class). Type can be part of the docstring. We can also include tests via [doctest](https://docs.python.org/3/library/doctest.html). Documentation in the form of for example HTML pages can be generated by [shinx](https://www.sphinx-doc.org/en/master/usage/quickstart.html). The following illustates a doctring with some nonexhaustive tests.\n",
    "\n",
    "```python\n",
    "# Part of factorial_doctest.py\n",
    "def factorial(n: int) -> int:\n",
    "    '''Return the factorial of n, an exact integer >= 0.\n",
    "\n",
    "    Args:\n",
    "       n (int):  n!\n",
    "\n",
    "    Returns:\n",
    "       int.  The factorial value::\n",
    "\n",
    "    >>> factorial(5)\n",
    "    120\n",
    "    >>> factorial(0)\n",
    "    1\n",
    "\n",
    "    '''\n",
    "    if n == 0:\n",
    "        return 1\n",
    "    return n*factorial(n-1)\n",
    "\n",
    "```\n",
    "To run the doctest we execute\n",
    "```bash\n",
    "(in3110) mirok@evalApply:data|$ python factorial_doctest.py -v\n",
    "```"
   ]
  },
  {
   "cell_type": "markdown",
   "id": "779143cf",
   "metadata": {},
   "source": [
    "Enforcing the behaviour via exceptions (and their handling). There are several predifined exception types: eg. ValueError, AssertionError, MethodError. We can also define our own type."
   ]
  },
  {
   "cell_type": "code",
   "execution_count": 20,
   "id": "7c83a9ed",
   "metadata": {},
   "outputs": [],
   "source": [
    "class MyError(BaseException):\n",
    "    def __init__(self, msg):\n",
    "        self.msg = msg\n",
    "        \n",
    "    def __str__(self):\n",
    "        return \"MyError occured with error message \\\"{}\\\"\".format(self.msg)"
   ]
  },
  {
   "cell_type": "code",
   "execution_count": 21,
   "id": "bc03158e",
   "metadata": {},
   "outputs": [],
   "source": [
    "# This is contrived to illustrate the custom exceptions in action.\n",
    "\n",
    "def factorial(n: int) -> int:\n",
    "    '''Return the factorial of n, an exact integer >= 0.\n",
    "\n",
    "    Args:\n",
    "       n (int):  n!\n",
    "\n",
    "    Returns:\n",
    "       int.  The factorial value::\n",
    "\n",
    "    >>> factorial(5)\n",
    "    120\n",
    "    >>> factorial(0)\n",
    "    1\n",
    "    >>> factorial(-1)\n",
    "    Traceback (most recent call last):\n",
    "        ...\n",
    "    ValueError: Only non-negative inputs are expected\n",
    "    '''\n",
    "    # Raise AssertionError if the type is wrong\n",
    "    assert isinstance(n, int)\n",
    "    # Raise a different exception for negative integers\n",
    "    if n < 0:\n",
    "        raise ValueError('Only non-negative inputs are expected')\n",
    "        \n",
    "    if n == 42:\n",
    "        raise MyError('This is not meant to be')\n",
    "        \n",
    "    if n == 0:\n",
    "        return 1\n",
    "    return n*factorial(n-1)"
   ]
  },
  {
   "cell_type": "markdown",
   "id": "2e450cd1",
   "metadata": {},
   "source": [
    "Handling the raised exceptions. There are several predifined expection types: eg. ValueError, AssertionError, MethodError. We can also define our own type."
   ]
  },
  {
   "cell_type": "code",
   "execution_count": 25,
   "id": "188cf67e",
   "metadata": {},
   "outputs": [
    {
     "ename": "MyError",
     "evalue": "MyError occured with error message \"This is not meant to be\"",
     "output_type": "error",
     "traceback": [
      "\u001b[0;31m---------------------------------------------------------------------------\u001b[0m",
      "\u001b[0;31mMyError\u001b[0m                                   Traceback (most recent call last)",
      "Cell \u001b[0;32mIn [25], line 4\u001b[0m\n\u001b[1;32m      1\u001b[0m val \u001b[38;5;241m=\u001b[39m \u001b[38;5;241m42\u001b[39m\n\u001b[1;32m      3\u001b[0m \u001b[38;5;28;01mtry\u001b[39;00m:\n\u001b[0;32m----> 4\u001b[0m     f \u001b[38;5;241m=\u001b[39m \u001b[43mfactorial\u001b[49m\u001b[43m(\u001b[49m\u001b[43mval\u001b[49m\u001b[43m)\u001b[49m\n\u001b[1;32m      5\u001b[0m \u001b[38;5;66;03m# We will try with the integer value\u001b[39;00m\n\u001b[1;32m      6\u001b[0m \u001b[38;5;28;01mexcept\u001b[39;00m \u001b[38;5;167;01mAssertionError\u001b[39;00m:\n",
      "Cell \u001b[0;32mIn [21], line 28\u001b[0m, in \u001b[0;36mfactorial\u001b[0;34m(n)\u001b[0m\n\u001b[1;32m     25\u001b[0m     \u001b[38;5;28;01mraise\u001b[39;00m \u001b[38;5;167;01mValueError\u001b[39;00m(\u001b[38;5;124m'\u001b[39m\u001b[38;5;124mOnly non-negative inputs are expected\u001b[39m\u001b[38;5;124m'\u001b[39m)\n\u001b[1;32m     27\u001b[0m \u001b[38;5;28;01mif\u001b[39;00m n \u001b[38;5;241m==\u001b[39m \u001b[38;5;241m42\u001b[39m:\n\u001b[0;32m---> 28\u001b[0m     \u001b[38;5;28;01mraise\u001b[39;00m MyError(\u001b[38;5;124m'\u001b[39m\u001b[38;5;124mThis is not meant to be\u001b[39m\u001b[38;5;124m'\u001b[39m)\n\u001b[1;32m     30\u001b[0m \u001b[38;5;28;01mif\u001b[39;00m n \u001b[38;5;241m==\u001b[39m \u001b[38;5;241m0\u001b[39m:\n\u001b[1;32m     31\u001b[0m     \u001b[38;5;28;01mreturn\u001b[39;00m \u001b[38;5;241m1\u001b[39m\n",
      "\u001b[0;31mMyError\u001b[0m: MyError occured with error message \"This is not meant to be\""
     ]
    }
   ],
   "source": [
    "val = 42\n",
    "\n",
    "try:\n",
    "    f = factorial(val)\n",
    "# We will try with the integer value\n",
    "except AssertionError:\n",
    "    from math import ceil\n",
    "    n = ceil(val)\n",
    "    print(f'Calling instead with {n}')\n",
    "    f = factorial(n)\n",
    "    \n",
    "# Let's say that for negative we flip the sign\n",
    "except ValueError:\n",
    "    n = -val\n",
    "    print(f'Calling instead with {n}')\n",
    "    f = factorial(n)\n",
    "except Exception as e:\n",
    "    print()\n",
    "finally:\n",
    "    # Sieve through here\n",
    "    pass"
   ]
  },
  {
   "cell_type": "markdown",
   "id": "3d22aee8",
   "metadata": {},
   "source": [
    "We will come back to testing when discussing Python package development in the next part."
   ]
  },
  {
   "cell_type": "code",
   "execution_count": 15,
   "id": "5cb6ff8d",
   "metadata": {},
   "outputs": [
    {
     "ename": "AssertionError",
     "evalue": "",
     "output_type": "error",
     "traceback": [
      "\u001b[0;31m---------------------------------------------------------------------------\u001b[0m",
      "\u001b[0;31mAssertionError\u001b[0m                            Traceback (most recent call last)",
      "Cell \u001b[0;32mIn [15], line 1\u001b[0m\n\u001b[0;32m----> 1\u001b[0m \u001b[43mfactorial\u001b[49m\u001b[43m(\u001b[49m\u001b[38;5;124;43m\"\u001b[39;49m\u001b[38;5;124;43ma\u001b[39;49m\u001b[38;5;124;43m\"\u001b[39;49m\u001b[43m)\u001b[49m\n",
      "Cell \u001b[0;32mIn [12], line 20\u001b[0m, in \u001b[0;36mfactorial\u001b[0;34m(n)\u001b[0m\n\u001b[1;32m      2\u001b[0m \u001b[38;5;124;03m'''Return the factorial of n, an exact integer >= 0.\u001b[39;00m\n\u001b[1;32m      3\u001b[0m \n\u001b[1;32m      4\u001b[0m \u001b[38;5;124;03mArgs:\u001b[39;00m\n\u001b[0;32m   (...)\u001b[0m\n\u001b[1;32m     17\u001b[0m \u001b[38;5;124;03mValueError: Only non-negative inputs are expected\u001b[39;00m\n\u001b[1;32m     18\u001b[0m \u001b[38;5;124;03m'''\u001b[39;00m\n\u001b[1;32m     19\u001b[0m \u001b[38;5;66;03m# Raise AssertionError if the type is wrong\u001b[39;00m\n\u001b[0;32m---> 20\u001b[0m \u001b[38;5;28;01massert\u001b[39;00m \u001b[38;5;28misinstance\u001b[39m(n, \u001b[38;5;28mint\u001b[39m)\n\u001b[1;32m     21\u001b[0m \u001b[38;5;66;03m# Raise a different exception for negative integers\u001b[39;00m\n\u001b[1;32m     22\u001b[0m \u001b[38;5;28;01mif\u001b[39;00m n \u001b[38;5;241m<\u001b[39m \u001b[38;5;241m0\u001b[39m:\n",
      "\u001b[0;31mAssertionError\u001b[0m: "
     ]
    }
   ],
   "source": [
    "Exceptions can also "
   ]
  },
  {
   "cell_type": "markdown",
   "id": "7b3fb41c",
   "metadata": {},
   "source": [
    "## Modifying function behavior"
   ]
  }
 ],
 "metadata": {
  "kernelspec": {
   "display_name": "Python 3 (ipykernel)",
   "language": "python",
   "name": "python3"
  },
  "language_info": {
   "codemirror_mode": {
    "name": "ipython",
    "version": 3
   },
   "file_extension": ".py",
   "mimetype": "text/x-python",
   "name": "python",
   "nbconvert_exporter": "python",
   "pygments_lexer": "ipython3",
   "version": "3.8.13"
  }
 },
 "nbformat": 4,
 "nbformat_minor": 5
}

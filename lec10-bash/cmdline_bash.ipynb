{
 "cells": [
  {
   "cell_type": "markdown",
   "id": "4e9e82a1",
   "metadata": {},
   "source": [
    "# Bash programming and Linux command-line tools\n",
    "(Last modified 03/11/22)\n",
    "\n",
    "<center>\n",
    "  <img src=\"figs/bash.png\" style=\"width: 500px;\"/>\n",
    "</center>\n",
    "    \n",
    "In our course **IN3110 – Problemløsning med høynivå-språk** we have so far only used Python (mostly; Cython). In this lecture we will add to the family of languages as we will discuss shell(Bash) scripting. The takehome message is that (simple) scripts combined with other command-line utities can provide elegant solutions and powerful pre/processing pipelines for processing data. "
   ]
  },
  {
   "cell_type": "markdown",
   "id": "101c4480",
   "metadata": {},
   "source": [
    "### A bit of history - there were/are many shells\n",
    "\n",
    "- 1979: Bourne shell (`sh`)\n",
    "- 1978: C and TC shell (`csh` and `tcsh`)\n",
    "- 1989: Bourne Again shell (`bash`)\n",
    "- Bash derivatives: \n",
    "    - 1983: Korn shell (`ksh`), \n",
    "    - 1990: Z shell (`zsh`)\n",
    "    - 2002: Dash (`dash`),  "
   ]
  },
  {
   "cell_type": "markdown",
   "id": "4551f3da",
   "metadata": {},
   "source": [
    "### Why learn Bash? \n",
    "\n",
    "- Learning Bash means learning the roots of scripting \n",
    "- Bash, are frequently encountered on Unix systems\n",
    "- Bash is the dominating command interpreter and scripting language\n",
    "\n",
    "Shell scripts evolve naturally from a workflow: \n",
    "  1. A sequence of commands you use often are placed in a file\n",
    "  2. Command-line options are introduced to enable different options to be passed to the commands\n",
    "  3. Introducing variables, if tests, loops enables more complex program flow\n",
    "  4. At some point pre- and postprocessing becomes too advanced for bash, at which point (parts of) the script should be ported to Python or other tools\n",
    "  \n",
    "In this lecture we imagine that we find ourselves working e.g. on some Linux cluster where we cannot get the admin permission to install Python modules or text editors we have available on our machines. We will try to get things done with utilities that are commonly installed by default."
   ]
  },
  {
   "cell_type": "markdown",
   "id": "94792816",
   "metadata": {},
   "source": [
    "### What Bash is *good* for\n",
    "\n",
    "- File and directory management\n",
    "- Systems management (build scripts)\n",
    "- Combining other scripts and commands\n",
    "- Rapid prototyping of more advanced scripts\n",
    "- Very simple output processing, plotting etc."
   ]
  },
  {
   "cell_type": "markdown",
   "id": "66ad235e",
   "metadata": {},
   "source": [
    "### Some common tasks in Bash\n",
    "- file writing and managing files and directories (creation, deletion, renaming)\n",
    "- for-loops\n",
    "- running an application\n",
    "- combining applications (pipes)\n",
    "- file globbing, testing file types"
   ]
  },
  {
   "cell_type": "markdown",
   "id": "03280132",
   "metadata": {},
   "source": [
    "### What Bash is *not good* for\n",
    "\n",
    "- Cross-platform portability\n",
    "- Graphics, GUIs\n",
    "- Interface with libraries or legacy code\n",
    "- More advanced post processing and plotting\n",
    "- Calculations, math etc."
   ]
  },
  {
   "cell_type": "markdown",
   "id": "8d1f99ac",
   "metadata": {},
   "source": [
    "## Installation\n",
    "\n",
    "- All our examples can be run under Bash, and many in the Bourne shell\n",
    "- Differences in operating systems:\n",
    "    - Mac OSX**: `/bin/sh` is just a link to Bash (`/bin/bash`).\n",
    "    - Ubuntu**: `/bin/sh` is a link to Dash, a minimal, but much faster shell than bash. Alternatively `/bin/bash`\n",
    "    - Windows**: bash is available through `cygwin` or the Linux-Subsystem in Windows 10.  \n",
    "    \n",
    "**Use within jupyter notebooks**: We will use cell magic `%%bash` to run the shell commands in the notebook."
   ]
  },
  {
   "cell_type": "markdown",
   "id": "2abe3af2",
   "metadata": {},
   "source": [
    "## Bash tutorial\n",
    "You will see a number of Bash/Unix commands in this lecture. The new commands will be highlighted with a <font color='red'>⚠️ </font>."
   ]
  },
  {
   "cell_type": "code",
   "execution_count": null,
   "id": "aecfcc06",
   "metadata": {},
   "outputs": [],
   "source": [
    "%%bash\n",
    "echo \"Hello from bash\""
   ]
  },
  {
   "cell_type": "markdown",
   "id": "57b81bc0",
   "metadata": {},
   "source": [
    "Function is called by giving its named followed by arguments. <font color='red'>⚠️ </font> `echo` prints text to screen."
   ]
  },
  {
   "cell_type": "markdown",
   "id": "c0243ec2",
   "metadata": {},
   "source": [
    "We could write the above source code into a source file, here `./scripts/hello_world.sh`"
   ]
  },
  {
   "cell_type": "markdown",
   "id": "6662a536",
   "metadata": {},
   "source": [
    "#### VIM intermezzo\n",
    "\n",
    "To stick to our scenario of being stuck on a cluster where there is no VScode/SublimeText and what not let us use VIM for editing. VIM is a powerful text editor (i(M)proving it predecessor VI editor) - here we will only scratch \n",
    "its surface. In some sense the philosphy behind VIM is that a painter first picks his instrument (mode selection), places it on the canvas (navigation) before starting to draw (e.g. editing)."
   ]
  },
  {
   "cell_type": "markdown",
   "id": "2009d96e",
   "metadata": {},
   "source": [
    "_Navigation_\n",
    "`ESC` to leave the current mode. Then press\n",
    "- `0` jump to line beginning\n",
    "- `$` jump to line end\n",
    "- `h`, `l`, `j`, `k` to move left, right, down or up\n",
    "- `gg` to jump to the start of the file, or `G` to jump to the end\n",
    "- `w` to jump forward a word or  `b` to move back a word\n",
    "\n",
    "_Manipulation/Editing_\n",
    "- Pressing `i` enters edit mode (you can type as you want)\n",
    "- Pressing `x`, `dw`, `dd` deletes respectivel a character, word or entire line\n",
    "- `ctrl+a` jumps to the end of the line and enters edit mode\n",
    "- `s` (substite) deletes the character under cursor and enters edit mode\n",
    "- `u` undoes\n",
    "- 'v' enters visual mode\n",
    "- `:w` saves the buffer to file\n",
    "\n",
    "_Search_\n",
    "- `/` enters search mode. After specifying the pattern pressing `n` will move forward to the next match, while `N` searches backward\n",
    "\n",
    "[_Exiting_](https://stackoverflow.blog/2017/05/23/stack-overflow-helping-one-million-developers-exit-vim/)\n",
    "- `:q` or `:q!` \n",
    "\n",
    "<center>\n",
    "  <img src=\"figs/vim.png\" style=\"width: 800px;\"/>\n",
    "</center>\n",
    "   "
   ]
  },
  {
   "cell_type": "markdown",
   "id": "6be5fc3e",
   "metadata": {},
   "source": [
    "A great reference to learn more about VIM is the book [Practical VIM: Edit Text at the Speed of Thought](https://www.amazon.com/Practical-Vim-Edit-Speed-Thought/dp/1680501275)"
   ]
  },
  {
   "cell_type": "markdown",
   "id": "353f5563",
   "metadata": {},
   "source": [
    "#### Back to Bash"
   ]
  },
  {
   "cell_type": "code",
   "execution_count": null,
   "id": "1309856a",
   "metadata": {},
   "outputs": [],
   "source": [
    "%%bash\n",
    "cat scripts/hello_world.sh"
   ]
  },
  {
   "cell_type": "markdown",
   "id": "c02ee123",
   "metadata": {},
   "source": [
    "Here the lines starting with hash `#` interpreted as comments. \n",
    "\n",
    "Above we have used <font color='red'>⚠️ </font> `cat` command to view the file content. Later we will see that it can be used for reading and writing too. "
   ]
  },
  {
   "cell_type": "markdown",
   "id": "dec267a9",
   "metadata": {},
   "source": [
    "Now we could try to run the script only to find that we get and error"
   ]
  },
  {
   "cell_type": "code",
   "execution_count": null,
   "id": "ff35198a",
   "metadata": {},
   "outputs": [],
   "source": [
    "!./scripts/hello_world.sh"
   ]
  },
  {
   "cell_type": "markdown",
   "id": "59d56639",
   "metadata": {},
   "source": [
    "The issue is that the file is not executable. We can see this with <font color='red'>⚠️ </font> `ls` command (where we specify the \"-l\" flag to get a long output)"
   ]
  },
  {
   "cell_type": "code",
   "execution_count": null,
   "id": "37970432",
   "metadata": {},
   "outputs": [],
   "source": [
    "!ls -l ./scripts/hello_world.sh"
   ]
  },
  {
   "cell_type": "markdown",
   "id": "0f2b180b",
   "metadata": {},
   "source": [
    "The permisions are r(ead), w(rite), x(execute)."
   ]
  },
  {
   "cell_type": "markdown",
   "id": "f8e8d98e",
   "metadata": {},
   "source": [
    "For fix we use the <font color='red'>⚠️ </font> `chmod` command. In particular, below we add execution permission to the user (group)  "
   ]
  },
  {
   "cell_type": "code",
   "execution_count": null,
   "id": "cb7b2d07",
   "metadata": {},
   "outputs": [],
   "source": [
    "%%bash\n",
    "chmod u+x ./scripts/hello_world.sh\n",
    "ls -l ./scripts/hello_world.sh"
   ]
  },
  {
   "cell_type": "markdown",
   "id": "a8cc2964",
   "metadata": {},
   "source": [
    "Now we can finally execute"
   ]
  },
  {
   "cell_type": "code",
   "execution_count": null,
   "id": "52a31759",
   "metadata": {},
   "outputs": [],
   "source": [
    "!./scripts/hello_world.sh"
   ]
  },
  {
   "cell_type": "markdown",
   "id": "02a4da23",
   "metadata": {},
   "source": [
    "Now that the code run we could ask about who actually run/interpreted it. Bash uses itself as default interpreter, if not otherwise specified. We can be explicit about the interpreter:"
   ]
  },
  {
   "cell_type": "code",
   "execution_count": null,
   "id": "d7444a8f",
   "metadata": {},
   "outputs": [],
   "source": [
    "!cat scripts/hello_world_bang.sh"
   ]
  },
  {
   "cell_type": "markdown",
   "id": "d79e0407",
   "metadata": {},
   "source": [
    "Observe that the first line starting with `shebang`, i.e. `#!` specifies the interpreter to use for the script. The second line, starting with the hash, `#`, is a comment. "
   ]
  },
  {
   "cell_type": "markdown",
   "id": "2130fe58",
   "metadata": {},
   "source": [
    "__Note__ We could have specified a different interpreter/shell as by giving instead the first line `/usr/bin/sh`. Let's see what sort of shell that is"
   ]
  },
  {
   "cell_type": "code",
   "execution_count": null,
   "id": "74e62ce7",
   "metadata": {},
   "outputs": [],
   "source": [
    "!man /usr/bin/sh"
   ]
  },
  {
   "cell_type": "markdown",
   "id": "11e7ca35",
   "metadata": {},
   "source": [
    "Using the <font color='red'>⚠️ </font> `man` (manual) command we see that on this mashing `sh` points to the `dash` shell."
   ]
  },
  {
   "cell_type": "markdown",
   "id": "7b98ffb7",
   "metadata": {},
   "source": [
    "For convenience we will use the cell `%%bash` magic in the the rest of the lecture to write our scripts"
   ]
  },
  {
   "cell_type": "markdown",
   "id": "b7790f14",
   "metadata": {},
   "source": [
    "### Variables\n",
    "\n",
    "- Assign a variable by `var=value` (__NOTE__ no spaces around `=`!)\n",
    "- Retrieve the value of the variable by `${var}` or `$var`"
   ]
  },
  {
   "cell_type": "code",
   "execution_count": null,
   "id": "6646873c",
   "metadata": {},
   "outputs": [],
   "source": [
    "%%bash\n",
    "#!/use/bin/bash\n",
    "\n",
    "cmd=echo    # Functions can be passed around\n",
    "greet=\"Hi\"\n",
    "\n",
    "${cmd} ${greet} world!\n",
    "\n",
    "# Undefined variables result in empty string\n",
    "\n",
    "${cmd} ${greet} ${world}!"
   ]
  },
  {
   "cell_type": "markdown",
   "id": "6fe329c4",
   "metadata": {},
   "source": [
    "There are also special variables defined in the environment. By convention their names are all uppercase. As an example, recall that when running `hello_world.sh` \n",
    "above we have specified the full path to the script. \n",
    "In particular, the following would give an error"
   ]
  },
  {
   "cell_type": "code",
   "execution_count": null,
   "id": "a3e1852f",
   "metadata": {},
   "outputs": [],
   "source": [
    "!./hello_world.sh"
   ]
  },
  {
   "cell_type": "markdown",
   "id": "368e47e4",
   "metadata": {},
   "source": [
    "To fix this problem, \n",
    "recall the role of `PYTHONPATH` in looking up Python modules by the Python interpreter. In fact `PYTHONPATH` is environmental variable"
   ]
  },
  {
   "cell_type": "code",
   "execution_count": 19,
   "id": "4a906c86",
   "metadata": {},
   "outputs": [
    {
     "name": "stdout",
     "output_type": "stream",
     "text": [
      "/home/mirok/Documents/Software/gmsh-4.9.5-Linux64-sdk/lib:\r\n"
     ]
    }
   ],
   "source": [
    "!echo $PYTHONPATH"
   ]
  },
  {
   "cell_type": "markdown",
   "id": "b435e1cb",
   "metadata": {},
   "source": [
    "Similar role is played by the environmental variable `PATH` which \n",
    "specifies directories to look for program executables."
   ]
  },
  {
   "cell_type": "code",
   "execution_count": 18,
   "id": "08d115be",
   "metadata": {},
   "outputs": [
    {
     "name": "stdout",
     "output_type": "stream",
     "text": [
      "/home/mirok/Documents/Software/AnaMorph/bin:/home/mirok/Documents/Software/ParaView-5.9.1-MPI-Linux-Python3.8-64bit/bin:/home/mirok/Documents/Software/visit3_2_1.linux-x86_64/bin:/home/mirok/Documents/Software/julia:/home/mirok/Documents/Software/glvis-4.1:/home/mirok/Documents/Software/gmsh-4.9.5-Linux64-sdk/bin:/home/mirok/Documents/Software/miniconda3/envs/in3110/bin:/home/mirok/Documents/Software/miniconda3/condabin:/home/mirok/.local/bin:/usr/local/sbin:/usr/local/bin:/usr/sbin:/usr/bin:/sbin:/bin:/usr/games:/usr/local/games:/snap/bin\r\n"
     ]
    }
   ],
   "source": [
    "!echo $PATH"
   ]
  },
  {
   "cell_type": "markdown",
   "id": "fe408204",
   "metadata": {},
   "source": [
    "What we would like to do to run our script just as `hello_world.sh` is to modify the env. Consider the following "
   ]
  },
  {
   "cell_type": "code",
   "execution_count": null,
   "id": "91d221d3",
   "metadata": {},
   "outputs": [],
   "source": [
    "%%bash \n",
    "new_PATH=\"$(pwd)/scripts:$PATH\"\n",
    "echo $new_PATH"
   ]
  },
  {
   "cell_type": "markdown",
   "id": "999ce2d3",
   "metadata": {},
   "source": [
    "Here we have __computed__ the value assigned to `new_PATH` by using <font color='red'>⚠️ </font> `pwd` command and building up the string. Note that we prepend to the list to get higher precedence to our directory. To update the `PATH` we could continue as follows"
   ]
  },
  {
   "cell_type": "code",
   "execution_count": null,
   "id": "75db43e6",
   "metadata": {},
   "outputs": [],
   "source": [
    "%%bash \n",
    "new_PATH=\"$(pwd)/scripts:$PATH\"\n",
    "export PATH=$new_PATH\n",
    "\n",
    "echo $PATH"
   ]
  },
  {
   "cell_type": "markdown",
   "id": "50ccbdbe",
   "metadata": {},
   "source": [
    "__NOTE__ There is a pitfall in each notebook cell execution is its own [process](https://stackoverflow.com/questions/67850706/unable-to-export-path-in-jupyterlab). In particular, the exported variables will not be reflected in the next (not child) processes. "
   ]
  },
  {
   "cell_type": "code",
   "execution_count": null,
   "id": "b2217b54",
   "metadata": {},
   "outputs": [],
   "source": [
    "!echo $PATH"
   ]
  },
  {
   "cell_type": "markdown",
   "id": "a7aceb52",
   "metadata": {},
   "source": [
    "So we will do this outside in the terminal/in one running shell session. We can put this process to sleep by `ctrl+z`. After the setting we can bring it back to (f)ore(g)round by <font color='red'>⚠️ </font> `fg`. Alternatively, we can resume the sleeping process in the (b)ack(g)round <font color='red'>⚠️ </font> `bg`."
   ]
  },
  {
   "cell_type": "markdown",
   "id": "fb412351",
   "metadata": {},
   "source": [
    "Some other examples of setting variables on computations\n"
   ]
  },
  {
   "cell_type": "code",
   "execution_count": 21,
   "id": "fd69335b",
   "metadata": {},
   "outputs": [
    {
     "name": "stdout",
     "output_type": "stream",
     "text": [
      "Today is onsdag 2022-11-02 18:33:10.\n"
     ]
    }
   ],
   "source": [
    "%%bash\n",
    "weekday=$(date +\"%A %Y-%m-%d %H:%M:%S\")    # date +\"%A\" is a bash command to display the day of the week \n",
    "echo \"Today is $weekday.\""
   ]
  },
  {
   "cell_type": "code",
   "execution_count": null,
   "id": "225fbd2c",
   "metadata": {},
   "outputs": [],
   "source": [
    "%%bash\n",
    "# Here we just use a different syntex to get it\n",
    "files=`ls ..`\n",
    "echo $files"
   ]
  },
  {
   "cell_type": "markdown",
   "id": "32a75980",
   "metadata": {},
   "source": [
    "As said before command <font color='red'>⚠️ </font> `ls` lists content of a directory."
   ]
  },
  {
   "cell_type": "markdown",
   "id": "0508f17d",
   "metadata": {},
   "source": [
    "#### Typed variables\n",
    "\n",
    "By default variables are un-typed, and treated as character arrays"
   ]
  },
  {
   "cell_type": "code",
   "execution_count": 26,
   "id": "7a3eb2cb",
   "metadata": {},
   "outputs": [
    {
     "name": "stdout",
     "output_type": "stream",
     "text": [
      "5+5\n"
     ]
    }
   ],
   "source": [
    "%%bash\n",
    "x=5\n",
    "x=$x+5\n",
    "echo $x"
   ]
  },
  {
   "cell_type": "markdown",
   "id": "4d2be76d",
   "metadata": {},
   "source": [
    "We can be explicit about the type of variable"
   ]
  },
  {
   "cell_type": "code",
   "execution_count": 27,
   "id": "c349e2dc",
   "metadata": {},
   "outputs": [
    {
     "name": "stdout",
     "output_type": "stream",
     "text": [
      "10\n"
     ]
    }
   ],
   "source": [
    "%%bash\n",
    "declare -i b     # define an integer variable b\n",
    "a=5\n",
    "b=$a+5\n",
    "echo $b"
   ]
  },
  {
   "cell_type": "markdown",
   "id": "3d175113",
   "metadata": {},
   "source": [
    "Or express that the variable is constant/read-only"
   ]
  },
  {
   "cell_type": "code",
   "execution_count": 28,
   "id": "8689efdb",
   "metadata": {
    "collapsed": true
   },
   "outputs": [
    {
     "name": "stdout",
     "output_type": "stream",
     "text": [
      "10\n"
     ]
    },
    {
     "name": "stderr",
     "output_type": "stream",
     "text": [
      "bash: line 3: r: readonly variable\n"
     ]
    },
    {
     "ename": "CalledProcessError",
     "evalue": "Command 'b'declare -r r=10            \\necho $r\\nr=5\\n'' returned non-zero exit status 1.",
     "output_type": "error",
     "traceback": [
      "\u001b[0;31m---------------------------------------------------------------------------\u001b[0m",
      "\u001b[0;31mCalledProcessError\u001b[0m                        Traceback (most recent call last)",
      "Cell \u001b[0;32mIn [28], line 1\u001b[0m\n\u001b[0;32m----> 1\u001b[0m \u001b[43mget_ipython\u001b[49m\u001b[43m(\u001b[49m\u001b[43m)\u001b[49m\u001b[38;5;241;43m.\u001b[39;49m\u001b[43mrun_cell_magic\u001b[49m\u001b[43m(\u001b[49m\u001b[38;5;124;43m'\u001b[39;49m\u001b[38;5;124;43mbash\u001b[39;49m\u001b[38;5;124;43m'\u001b[39;49m\u001b[43m,\u001b[49m\u001b[43m \u001b[49m\u001b[38;5;124;43m'\u001b[39;49m\u001b[38;5;124;43m'\u001b[39;49m\u001b[43m,\u001b[49m\u001b[43m \u001b[49m\u001b[38;5;124;43m'\u001b[39;49m\u001b[38;5;124;43mdeclare -r r=10            \u001b[39;49m\u001b[38;5;130;43;01m\\n\u001b[39;49;00m\u001b[38;5;124;43mecho $r\u001b[39;49m\u001b[38;5;130;43;01m\\n\u001b[39;49;00m\u001b[38;5;124;43mr=5\u001b[39;49m\u001b[38;5;130;43;01m\\n\u001b[39;49;00m\u001b[38;5;124;43m'\u001b[39;49m\u001b[43m)\u001b[49m\n",
      "File \u001b[0;32m~/Documents/Software/miniconda3/envs/in3110/lib/python3.8/site-packages/IPython/core/interactiveshell.py:2362\u001b[0m, in \u001b[0;36mInteractiveShell.run_cell_magic\u001b[0;34m(self, magic_name, line, cell)\u001b[0m\n\u001b[1;32m   2360\u001b[0m \u001b[38;5;28;01mwith\u001b[39;00m \u001b[38;5;28mself\u001b[39m\u001b[38;5;241m.\u001b[39mbuiltin_trap:\n\u001b[1;32m   2361\u001b[0m     args \u001b[38;5;241m=\u001b[39m (magic_arg_s, cell)\n\u001b[0;32m-> 2362\u001b[0m     result \u001b[38;5;241m=\u001b[39m \u001b[43mfn\u001b[49m\u001b[43m(\u001b[49m\u001b[38;5;241;43m*\u001b[39;49m\u001b[43margs\u001b[49m\u001b[43m,\u001b[49m\u001b[43m \u001b[49m\u001b[38;5;241;43m*\u001b[39;49m\u001b[38;5;241;43m*\u001b[39;49m\u001b[43mkwargs\u001b[49m\u001b[43m)\u001b[49m\n\u001b[1;32m   2363\u001b[0m \u001b[38;5;28;01mreturn\u001b[39;00m result\n",
      "File \u001b[0;32m~/Documents/Software/miniconda3/envs/in3110/lib/python3.8/site-packages/IPython/core/magics/script.py:153\u001b[0m, in \u001b[0;36mScriptMagics._make_script_magic.<locals>.named_script_magic\u001b[0;34m(line, cell)\u001b[0m\n\u001b[1;32m    151\u001b[0m \u001b[38;5;28;01melse\u001b[39;00m:\n\u001b[1;32m    152\u001b[0m     line \u001b[38;5;241m=\u001b[39m script\n\u001b[0;32m--> 153\u001b[0m \u001b[38;5;28;01mreturn\u001b[39;00m \u001b[38;5;28;43mself\u001b[39;49m\u001b[38;5;241;43m.\u001b[39;49m\u001b[43mshebang\u001b[49m\u001b[43m(\u001b[49m\u001b[43mline\u001b[49m\u001b[43m,\u001b[49m\u001b[43m \u001b[49m\u001b[43mcell\u001b[49m\u001b[43m)\u001b[49m\n",
      "File \u001b[0;32m~/Documents/Software/miniconda3/envs/in3110/lib/python3.8/site-packages/IPython/core/magics/script.py:305\u001b[0m, in \u001b[0;36mScriptMagics.shebang\u001b[0;34m(self, line, cell)\u001b[0m\n\u001b[1;32m    300\u001b[0m \u001b[38;5;28;01mif\u001b[39;00m args\u001b[38;5;241m.\u001b[39mraise_error \u001b[38;5;129;01mand\u001b[39;00m p\u001b[38;5;241m.\u001b[39mreturncode \u001b[38;5;241m!=\u001b[39m \u001b[38;5;241m0\u001b[39m:\n\u001b[1;32m    301\u001b[0m     \u001b[38;5;66;03m# If we get here and p.returncode is still None, we must have\u001b[39;00m\n\u001b[1;32m    302\u001b[0m     \u001b[38;5;66;03m# killed it but not yet seen its return code. We don't wait for it,\u001b[39;00m\n\u001b[1;32m    303\u001b[0m     \u001b[38;5;66;03m# in case it's stuck in uninterruptible sleep. -9 = SIGKILL\u001b[39;00m\n\u001b[1;32m    304\u001b[0m     rc \u001b[38;5;241m=\u001b[39m p\u001b[38;5;241m.\u001b[39mreturncode \u001b[38;5;129;01mor\u001b[39;00m \u001b[38;5;241m-\u001b[39m\u001b[38;5;241m9\u001b[39m\n\u001b[0;32m--> 305\u001b[0m     \u001b[38;5;28;01mraise\u001b[39;00m CalledProcessError(rc, cell)\n",
      "\u001b[0;31mCalledProcessError\u001b[0m: Command 'b'declare -r r=10            \\necho $r\\nr=5\\n'' returned non-zero exit status 1."
     ]
    }
   ],
   "source": [
    "%%bash\n",
    "declare -r r=10            \n",
    "echo $r\n",
    "r=5"
   ]
  },
  {
   "cell_type": "markdown",
   "id": "90193b54",
   "metadata": {},
   "source": [
    "Bash also support `array` type"
   ]
  },
  {
   "cell_type": "code",
   "execution_count": 29,
   "id": "40b79bea",
   "metadata": {},
   "outputs": [
    {
     "name": "stdout",
     "output_type": "stream",
     "text": [
      "foo\n",
      "foo bar\n",
      "3\n",
      "2\n"
     ]
    }
   ],
   "source": [
    "%%bash\n",
    "declare -a array=(\"foo\" \"bar\") # array\n",
    "echo ${array[0]}  # First array value\n",
    "echo ${array[@]}  # All array values\n",
    "echo ${#array}    # !!!Array size\n",
    "echo ${#array[@]} # But"
   ]
  },
  {
   "cell_type": "markdown",
   "id": "aeee2664",
   "metadata": {},
   "source": [
    "### Flow control and functions\n",
    "\n",
    "For flow we shall discuss `if`, `case` and `for` and `while` loops\n",
    "\n",
    "__`if`__ statement"
   ]
  },
  {
   "cell_type": "code",
   "execution_count": null,
   "id": "c7273337",
   "metadata": {},
   "outputs": [],
   "source": [
    "%%bash\n",
    "declare name=\"Joe\"\n",
    "# Here we are comparing 2 strings\n",
    "if [ $name == \"Joe\" ]\n",
    "then\n",
    "  echo \"Joseph\"\n",
    "else\n",
    "  echo \"Don't know\"\n",
    "fi"
   ]
  },
  {
   "cell_type": "code",
   "execution_count": 33,
   "id": "ef555899",
   "metadata": {},
   "outputs": [
    {
     "name": "stdout",
     "output_type": "stream",
     "text": [
      "The variable is at most 10\n"
     ]
    }
   ],
   "source": [
    "%%bash\n",
    "declare -i -r number=10\n",
    "# Here we are comparing numbers\n",
    "if [ $number -gt 10 ]\n",
    "then\n",
    "  echo \"The variable is greater than 10.\"\n",
    "else\n",
    "  echo \"The variable is at most 10\"\n",
    "fi"
   ]
  },
  {
   "cell_type": "markdown",
   "id": "51df87bc",
   "metadata": {},
   "source": [
    "We can do `if`-`elif` branching and the tests can be combined with `&&` (AND) or `||` (OR). Below we also introduce [parameter expansion](https://www.gnu.org/software/bash/manual/html_node/Shell-Parameter-Expansion.html) `{ }` to grab substrings or get length of strings and `(( )` to perform some simple arithmetic"
   ]
  },
  {
   "cell_type": "code",
   "execution_count": 84,
   "id": "008b1414",
   "metadata": {},
   "outputs": [
    {
     "name": "stdout",
     "output_type": "stream",
     "text": [
      "The first letter is J and last is y\n"
     ]
    }
   ],
   "source": [
    "%%bash\n",
    "declare name=\"Joey\"\n",
    "\n",
    "if [ $name == \"Joe\" ]\n",
    "then\n",
    "  echo Name is Joe\n",
    "fi\n",
    "\n",
    "# AND\n",
    "if [ ${name: 0:1} == \"J\" ] && [ ${name: -1:1} == \"y\" ]\n",
    "then\n",
    "  echo The first letter is J and last is y\n",
    "# OR\n",
    "elif [ ${name: 0:1} == \"A\" ] || [ ${#name} -eq $((2+2)) ]\n",
    "then\n",
    "  echo The first letter is A or name length is $((1+3))\n",
    "else\n",
    "  [ ${#name} -eq 5 ] && echo \"Don't know for 5 char long name\"\n",
    "fi\n",
    "# NOTE: we add this \"success\" expression so that ipython does not complain\n",
    "# about notzero exit status\n",
    "echo $name\n",
    "# We could also use\n",
    "exit 0"
   ]
  },
  {
   "cell_type": "markdown",
   "id": "0968d0c7",
   "metadata": {},
   "source": [
    "<font color='red'>⚠️ </font> `exit` with status flag/number is used to indicate succesful or failed execution. 0 means success. These is a special variable which captures exit code of the preceeding call"
   ]
  },
  {
   "cell_type": "code",
   "execution_count": 91,
   "id": "5bc0240e",
   "metadata": {},
   "outputs": [
    {
     "name": "stdout",
     "output_type": "stream",
     "text": [
      "There was a problem\n"
     ]
    }
   ],
   "source": [
    "%%bash\n",
    "name=\"alex\"\n",
    "[ ${#name} -eq 5 ] && echo \"Exec only when name 5\"\n",
    "\n",
    "if [ \"$?\" == \"0\" ]\n",
    "then\n",
    "  echo There was no problem\n",
    "else\n",
    "  echo There was a problem\n",
    "fi"
   ]
  },
  {
   "cell_type": "markdown",
   "id": "1b9b2b0d",
   "metadata": {},
   "source": [
    "There are handy tests for existence of files/directories. For example we can check"
   ]
  },
  {
   "cell_type": "code",
   "execution_count": 71,
   "id": "c832cc80",
   "metadata": {},
   "outputs": [
    {
     "name": "stdout",
     "output_type": "stream",
     "text": [
      "There is scripts directory\n",
      "cmdline_bash.ipynb\n",
      "figs\n",
      "lecture_old.ipynb\n",
      "scripts\n",
      "scripts.bk\n",
      "\n",
      "It contains executable\n"
     ]
    }
   ],
   "source": [
    "%%bash\n",
    "\n",
    "dir='scripts'\n",
    "\n",
    "if [ -d $dir ]\n",
    "then\n",
    "  echo There is $dir directory\n",
    "  cp -r $dir $dir.bk\n",
    "  ls .             # . is a current directoy, .. is the one above\n",
    "  echo\n",
    "  if [ -x \"$dir/hello_world.sh\" ]\n",
    "  then\n",
    "    echo $dir contains executable\n",
    "  fi\n",
    "fi"
   ]
  },
  {
   "cell_type": "markdown",
   "id": "0267bd9d",
   "metadata": {},
   "source": [
    "Here we have used the copy command <font color='red'>⚠️ </font> `cp` with a `-r` recursive switch."
   ]
  },
  {
   "cell_type": "markdown",
   "id": "2ed59146",
   "metadata": {},
   "source": [
    "Other test switches\n",
    "\n",
    "- `-h` FILE - True if the FILE exists and is a symbolic link.\n",
    "- `-r` FILE - True if the FILE exists and is readable.\n",
    "- `-w` FILE - True if the FILE exists and is writable.\n",
    "- `-x` FILE - True if the FILE exists and is executable.\n",
    "- `-d` FILE - True if the FILE exists and is a directory.\n",
    "- `-e` FILE - True if the FILE exists and is a file, regardless of type \n",
    "- `-f` FILE - True if the FILE exists and is a regular file (not a directory or device)"
   ]
  },
  {
   "cell_type": "markdown",
   "id": "ec90ad16",
   "metadata": {},
   "source": [
    "__`case`__ statement\n",
    "\n",
    "To simplify writing nested `if` statements especially if branching is a case analysis/pattern matching we use `case` construct. This will be useful e.g. for parsing command line arguments (see later)"
   ]
  },
  {
   "cell_type": "code",
   "execution_count": 83,
   "id": "e155403a",
   "metadata": {},
   "outputs": [
    {
     "name": "stdout",
     "output_type": "stream",
     "text": [
      "4\n"
     ]
    }
   ],
   "source": [
    "%%bash\n",
    "place=\"Oslo\"\n",
    "case $place in\n",
    "        Oslo)\n",
    "            m=4;;  # ;; indicates end of case\n",
    "        Bergen)\n",
    "            m=5 ;;\n",
    "        *)\n",
    "            m=-1\n",
    "esac\n",
    "echo $m"
   ]
  },
  {
   "cell_type": "markdown",
   "id": "e5f9a9db",
   "metadata": {},
   "source": [
    "__`for`__ loop\n",
    "\n",
    "Consider this setup where we run over bunch of parameters to perform a \"simulation\" whose result we want to store"
   ]
  },
  {
   "cell_type": "code",
   "execution_count": 96,
   "id": "ed01c482",
   "metadata": {},
   "outputs": [
    {
     "name": "stdout",
     "output_type": "stream",
     "text": [
      "results exists\n",
      "running first\n",
      "running second\n",
      "running third\n",
      "Performed 3 experiments\n"
     ]
    }
   ],
   "source": [
    "%%bash\n",
    "experiments=\"first second third\"\n",
    "\n",
    "dir=results\n",
    "\n",
    "if [ -d $dir ]\n",
    "then\n",
    "  echo $dir exists\n",
    "else\n",
    "  mkdir $dir\n",
    "fi\n",
    "\n",
    "declare -i counter\n",
    "counter=0\n",
    "\n",
    "for e in $experiments\n",
    "do\n",
    "  echo running $e\n",
    "  sleep 0.2\n",
    "  touch $e.txt        # Touch/create empty file with that name\n",
    "  cp $e.txt $dir \n",
    "  ((counter=counter+1))       # Increase the counter\n",
    "done\n",
    "echo Performed $counter experiments"
   ]
  },
  {
   "cell_type": "markdown",
   "id": "d9de4138",
   "metadata": {},
   "source": [
    "Here we have used a make directory command <font color='red'>⚠️ </font> `mkdir`, the simulation was mocked up by <font color='red'>⚠️ </font> `sleep` command which delays the execution by arg seconds and finaly the results were created by <font color='red'>⚠️ </font> `touch`."
   ]
  },
  {
   "cell_type": "markdown",
   "id": "0fffcce6",
   "metadata": {},
   "source": [
    "Previus example illustrates a common situation where the tasks in the loop could execute in parallel as opposed to serial \n",
    "as done previosly. Lunching the tasks in parallel can be done with `&`"
   ]
  },
  {
   "cell_type": "code",
   "execution_count": 101,
   "id": "0c8a0314",
   "metadata": {},
   "outputs": [
    {
     "name": "stdout",
     "output_type": "stream",
     "text": [
      "Launched first\n",
      "Launched second\n",
      "Launched third\n"
     ]
    }
   ],
   "source": [
    "%%bash\n",
    "experiments=\"first second third\"\n",
    "\n",
    "for e in $experiments\n",
    "do\n",
    "  sleep 1 && echo Launched $e\n",
    "done"
   ]
  },
  {
   "cell_type": "markdown",
   "id": "760c04e8",
   "metadata": {},
   "source": [
    "In contrast the parallel execution as expected runs quicker"
   ]
  },
  {
   "cell_type": "code",
   "execution_count": 102,
   "id": "fbb519f3",
   "metadata": {},
   "outputs": [
    {
     "name": "stdout",
     "output_type": "stream",
     "text": [
      "Launched first\n",
      "Launched second\n",
      "Launched third\n"
     ]
    }
   ],
   "source": [
    "%%bash\n",
    "experiments=\"first second third\"\n",
    "\n",
    "for e in $experiments\n",
    "do\n",
    "  sleep 1 && echo Launched $e&\n",
    "done"
   ]
  },
  {
   "cell_type": "markdown",
   "id": "c28ec656",
   "metadata": {},
   "source": [
    "__`while`__ loop\n",
    "\n",
    "Consider the task of counting lines in a file"
   ]
  },
  {
   "cell_type": "code",
   "execution_count": 98,
   "id": "b4727c32",
   "metadata": {},
   "outputs": [
    {
     "name": "stdout",
     "output_type": "stream",
     "text": [
      "Start counting...\n",
      "done\n",
      "Number of lines in : 13\n"
     ]
    }
   ],
   "source": [
    "%%bash\n",
    "filename=\"./data/text.txt\"\n",
    "declare -i count; count=0\n",
    "\n",
    "echo \"Start counting...\"\n",
    "# loop over all lines of  file\n",
    "while read p\n",
    "do\n",
    "    # increase line counter\n",
    "    ((count++))\n",
    "done < $filename\n",
    "echo \"done\"\n",
    "\n",
    "echo \"Number of lines in $file: $count\""
   ]
  },
  {
   "cell_type": "markdown",
   "id": "76ddad97",
   "metadata": {},
   "source": [
    "#### Functions\n",
    "\n",
    "Functions are declared by `function` keyword and called with their name followed by arguments. Note that by default variables inside the function body are global"
   ]
  },
  {
   "cell_type": "code",
   "execution_count": 106,
   "id": "4822e5f8",
   "metadata": {},
   "outputs": [
    {
     "name": "stdout",
     "output_type": "stream",
     "text": [
      "Nothing\n",
      "greet was called\n",
      "some value What\n"
     ]
    }
   ],
   "source": [
    "%%bash\n",
    "myresult=\"Nothing\"\n",
    "\n",
    "function greet\n",
    "{\n",
    "    echo \"greet was called\"\n",
    "    myresult='some value'  # Global\n",
    "    insideresult=\"What\"    # Global\n",
    "}\n",
    "\n",
    "echo $myresult\n",
    "greet  # Call\n",
    "echo $myresult $insideresult"
   ]
  },
  {
   "cell_type": "markdown",
   "id": "fd3e87c7",
   "metadata": {},
   "source": [
    "Arguments of the function can be parsed with special accessors"
   ]
  },
  {
   "cell_type": "code",
   "execution_count": 110,
   "id": "eedf0c0d",
   "metadata": {},
   "outputs": [
    {
     "name": "stdout",
     "output_type": "stream",
     "text": [
      "foo called with 1 arguments\n",
      "The first one is bash\n",
      "command-line argument no. 1 is <This>\n",
      "\n",
      "foo called with 2 arguments\n",
      "The first one is bash\n",
      "command-line argument no. 1 is <This>\n",
      "command-line argument no. 2 is <That>\n"
     ]
    }
   ],
   "source": [
    "%%bash \n",
    "function foo\n",
    "{\n",
    "    echo \"foo called with $# arguments\"  # $# is the arg count\n",
    "    echo \"The first one is $0\" # NOTE the zero argument is not the first one from the user!\n",
    "                               # $1 $2 etc  \n",
    "    # Show all of them\n",
    "    declare -i n; n=1\n",
    "    for arg in $@; do\n",
    "      echo \"command-line argument no. $n is <$arg>\"\n",
    "      ((n++))\n",
    "    done\n",
    "}\n",
    "\n",
    "foo This\n",
    "echo\n",
    "foo This That"
   ]
  },
  {
   "cell_type": "markdown",
   "id": "b5bf6354",
   "metadata": {},
   "source": [
    "Or we can process them in an array-style"
   ]
  },
  {
   "cell_type": "code",
   "execution_count": 129,
   "id": "367d0eff",
   "metadata": {
    "collapsed": true
   },
   "outputs": [
    {
     "name": "stdout",
     "output_type": "stream",
     "text": [
      "Jim is years old\n",
      "Ana is 30 years old\n",
      "Exit status 0\n",
      "\n",
      "bash: invalid option \"-b\"\n"
     ]
    },
    {
     "ename": "CalledProcessError",
     "evalue": "Command 'b'\\nfunction bar\\n{\\n    while [ $# -gt 0 ]\\n    do\\n        option=$1; # load arg into option\\n        shift;     # move $1 pointer\\n        case \"$option\" in\\n            -n)\\n                name=$1\\n                shift\\n                ;;  \\n            -a)\\n                age=$1; shift; ;;  \\n            *)\\n                echo \"$0: invalid option \\\\\"$option\\\\\"\"; exit 1;;\\n        esac\\n    done\\n    echo $name is $age years old\\n}\\n\\nbar -n \"Jim\"\\n#echo\\nbar -a 30 -n Ana\\necho \"Exit status \"$?\\necho\\nbar -a 30 -b Ana\\n'' returned non-zero exit status 1.",
     "output_type": "error",
     "traceback": [
      "\u001b[0;31m---------------------------------------------------------------------------\u001b[0m",
      "\u001b[0;31mCalledProcessError\u001b[0m                        Traceback (most recent call last)",
      "Cell \u001b[0;32mIn [129], line 1\u001b[0m\n\u001b[0;32m----> 1\u001b[0m \u001b[43mget_ipython\u001b[49m\u001b[43m(\u001b[49m\u001b[43m)\u001b[49m\u001b[38;5;241;43m.\u001b[39;49m\u001b[43mrun_cell_magic\u001b[49m\u001b[43m(\u001b[49m\u001b[38;5;124;43m'\u001b[39;49m\u001b[38;5;124;43mbash\u001b[39;49m\u001b[38;5;124;43m'\u001b[39;49m\u001b[43m,\u001b[49m\u001b[43m \u001b[49m\u001b[38;5;124;43m'\u001b[39;49m\u001b[38;5;124;43m'\u001b[39;49m\u001b[43m,\u001b[49m\u001b[43m \u001b[49m\u001b[38;5;124;43m'\u001b[39;49m\u001b[38;5;130;43;01m\\n\u001b[39;49;00m\u001b[38;5;124;43mfunction bar\u001b[39;49m\u001b[38;5;130;43;01m\\n\u001b[39;49;00m\u001b[38;5;124;43m{\u001b[39;49m\u001b[38;5;130;43;01m\\n\u001b[39;49;00m\u001b[38;5;124;43m    while [ $# -gt 0 ]\u001b[39;49m\u001b[38;5;130;43;01m\\n\u001b[39;49;00m\u001b[38;5;124;43m    do\u001b[39;49m\u001b[38;5;130;43;01m\\n\u001b[39;49;00m\u001b[38;5;124;43m        option=$1; # load arg into option\u001b[39;49m\u001b[38;5;130;43;01m\\n\u001b[39;49;00m\u001b[38;5;124;43m        shift;     # move $1 pointer\u001b[39;49m\u001b[38;5;130;43;01m\\n\u001b[39;49;00m\u001b[38;5;124;43m        case \u001b[39;49m\u001b[38;5;124;43m\"\u001b[39;49m\u001b[38;5;124;43m$option\u001b[39;49m\u001b[38;5;124;43m\"\u001b[39;49m\u001b[38;5;124;43m in\u001b[39;49m\u001b[38;5;130;43;01m\\n\u001b[39;49;00m\u001b[38;5;124;43m            -n)\u001b[39;49m\u001b[38;5;130;43;01m\\n\u001b[39;49;00m\u001b[38;5;124;43m                name=$1\u001b[39;49m\u001b[38;5;130;43;01m\\n\u001b[39;49;00m\u001b[38;5;124;43m                shift\u001b[39;49m\u001b[38;5;130;43;01m\\n\u001b[39;49;00m\u001b[38;5;124;43m                ;;  \u001b[39;49m\u001b[38;5;130;43;01m\\n\u001b[39;49;00m\u001b[38;5;124;43m            -a)\u001b[39;49m\u001b[38;5;130;43;01m\\n\u001b[39;49;00m\u001b[38;5;124;43m                age=$1; shift; ;;  \u001b[39;49m\u001b[38;5;130;43;01m\\n\u001b[39;49;00m\u001b[38;5;124;43m            *)\u001b[39;49m\u001b[38;5;130;43;01m\\n\u001b[39;49;00m\u001b[38;5;124;43m                echo \u001b[39;49m\u001b[38;5;124;43m\"\u001b[39;49m\u001b[38;5;124;43m$0: invalid option \u001b[39;49m\u001b[38;5;130;43;01m\\\\\u001b[39;49;00m\u001b[38;5;124;43m\"\u001b[39;49m\u001b[38;5;124;43m$option\u001b[39;49m\u001b[38;5;130;43;01m\\\\\u001b[39;49;00m\u001b[38;5;124;43m\"\u001b[39;49m\u001b[38;5;124;43m\"\u001b[39;49m\u001b[38;5;124;43m; exit 1;;\u001b[39;49m\u001b[38;5;130;43;01m\\n\u001b[39;49;00m\u001b[38;5;124;43m        esac\u001b[39;49m\u001b[38;5;130;43;01m\\n\u001b[39;49;00m\u001b[38;5;124;43m    done\u001b[39;49m\u001b[38;5;130;43;01m\\n\u001b[39;49;00m\u001b[38;5;124;43m    echo $name is $age years old\u001b[39;49m\u001b[38;5;130;43;01m\\n\u001b[39;49;00m\u001b[38;5;124;43m}\u001b[39;49m\u001b[38;5;130;43;01m\\n\u001b[39;49;00m\u001b[38;5;130;43;01m\\n\u001b[39;49;00m\u001b[38;5;124;43mbar -n \u001b[39;49m\u001b[38;5;124;43m\"\u001b[39;49m\u001b[38;5;124;43mJim\u001b[39;49m\u001b[38;5;124;43m\"\u001b[39;49m\u001b[38;5;130;43;01m\\n\u001b[39;49;00m\u001b[38;5;124;43m#echo\u001b[39;49m\u001b[38;5;130;43;01m\\n\u001b[39;49;00m\u001b[38;5;124;43mbar -a 30 -n Ana\u001b[39;49m\u001b[38;5;130;43;01m\\n\u001b[39;49;00m\u001b[38;5;124;43mecho \u001b[39;49m\u001b[38;5;124;43m\"\u001b[39;49m\u001b[38;5;124;43mExit status \u001b[39;49m\u001b[38;5;124;43m\"\u001b[39;49m\u001b[38;5;124;43m$?\u001b[39;49m\u001b[38;5;130;43;01m\\n\u001b[39;49;00m\u001b[38;5;124;43mecho\u001b[39;49m\u001b[38;5;130;43;01m\\n\u001b[39;49;00m\u001b[38;5;124;43mbar -a 30 -b Ana\u001b[39;49m\u001b[38;5;130;43;01m\\n\u001b[39;49;00m\u001b[38;5;124;43m'\u001b[39;49m\u001b[43m)\u001b[49m\n",
      "File \u001b[0;32m~/Documents/Software/miniconda3/envs/in3110/lib/python3.8/site-packages/IPython/core/interactiveshell.py:2362\u001b[0m, in \u001b[0;36mInteractiveShell.run_cell_magic\u001b[0;34m(self, magic_name, line, cell)\u001b[0m\n\u001b[1;32m   2360\u001b[0m \u001b[38;5;28;01mwith\u001b[39;00m \u001b[38;5;28mself\u001b[39m\u001b[38;5;241m.\u001b[39mbuiltin_trap:\n\u001b[1;32m   2361\u001b[0m     args \u001b[38;5;241m=\u001b[39m (magic_arg_s, cell)\n\u001b[0;32m-> 2362\u001b[0m     result \u001b[38;5;241m=\u001b[39m \u001b[43mfn\u001b[49m\u001b[43m(\u001b[49m\u001b[38;5;241;43m*\u001b[39;49m\u001b[43margs\u001b[49m\u001b[43m,\u001b[49m\u001b[43m \u001b[49m\u001b[38;5;241;43m*\u001b[39;49m\u001b[38;5;241;43m*\u001b[39;49m\u001b[43mkwargs\u001b[49m\u001b[43m)\u001b[49m\n\u001b[1;32m   2363\u001b[0m \u001b[38;5;28;01mreturn\u001b[39;00m result\n",
      "File \u001b[0;32m~/Documents/Software/miniconda3/envs/in3110/lib/python3.8/site-packages/IPython/core/magics/script.py:153\u001b[0m, in \u001b[0;36mScriptMagics._make_script_magic.<locals>.named_script_magic\u001b[0;34m(line, cell)\u001b[0m\n\u001b[1;32m    151\u001b[0m \u001b[38;5;28;01melse\u001b[39;00m:\n\u001b[1;32m    152\u001b[0m     line \u001b[38;5;241m=\u001b[39m script\n\u001b[0;32m--> 153\u001b[0m \u001b[38;5;28;01mreturn\u001b[39;00m \u001b[38;5;28;43mself\u001b[39;49m\u001b[38;5;241;43m.\u001b[39;49m\u001b[43mshebang\u001b[49m\u001b[43m(\u001b[49m\u001b[43mline\u001b[49m\u001b[43m,\u001b[49m\u001b[43m \u001b[49m\u001b[43mcell\u001b[49m\u001b[43m)\u001b[49m\n",
      "File \u001b[0;32m~/Documents/Software/miniconda3/envs/in3110/lib/python3.8/site-packages/IPython/core/magics/script.py:305\u001b[0m, in \u001b[0;36mScriptMagics.shebang\u001b[0;34m(self, line, cell)\u001b[0m\n\u001b[1;32m    300\u001b[0m \u001b[38;5;28;01mif\u001b[39;00m args\u001b[38;5;241m.\u001b[39mraise_error \u001b[38;5;129;01mand\u001b[39;00m p\u001b[38;5;241m.\u001b[39mreturncode \u001b[38;5;241m!=\u001b[39m \u001b[38;5;241m0\u001b[39m:\n\u001b[1;32m    301\u001b[0m     \u001b[38;5;66;03m# If we get here and p.returncode is still None, we must have\u001b[39;00m\n\u001b[1;32m    302\u001b[0m     \u001b[38;5;66;03m# killed it but not yet seen its return code. We don't wait for it,\u001b[39;00m\n\u001b[1;32m    303\u001b[0m     \u001b[38;5;66;03m# in case it's stuck in uninterruptible sleep. -9 = SIGKILL\u001b[39;00m\n\u001b[1;32m    304\u001b[0m     rc \u001b[38;5;241m=\u001b[39m p\u001b[38;5;241m.\u001b[39mreturncode \u001b[38;5;129;01mor\u001b[39;00m \u001b[38;5;241m-\u001b[39m\u001b[38;5;241m9\u001b[39m\n\u001b[0;32m--> 305\u001b[0m     \u001b[38;5;28;01mraise\u001b[39;00m CalledProcessError(rc, cell)\n",
      "\u001b[0;31mCalledProcessError\u001b[0m: Command 'b'\\nfunction bar\\n{\\n    while [ $# -gt 0 ]\\n    do\\n        option=$1; # load arg into option\\n        shift;     # move $1 pointer\\n        case \"$option\" in\\n            -n)\\n                name=$1\\n                shift\\n                ;;  \\n            -a)\\n                age=$1; shift; ;;  \\n            *)\\n                echo \"$0: invalid option \\\\\"$option\\\\\"\"; exit 1;;\\n        esac\\n    done\\n    echo $name is $age years old\\n}\\n\\nbar -n \"Jim\"\\n#echo\\nbar -a 30 -n Ana\\necho \"Exit status \"$?\\necho\\nbar -a 30 -b Ana\\n'' returned non-zero exit status 1."
     ]
    }
   ],
   "source": [
    "%%bash\n",
    "\n",
    "function bar\n",
    "{\n",
    "    while [ $# -gt 0 ]\n",
    "    do\n",
    "        option=$1; # load arg into option\n",
    "        shift;     # move $1 pointer\n",
    "        case \"$option\" in\n",
    "            -n)\n",
    "                name=$1\n",
    "                shift\n",
    "                ;;  \n",
    "            -a)\n",
    "                age=$1; shift; ;;  \n",
    "            *)\n",
    "                echo \"$0: invalid option \\\"$option\\\"\"; exit 1;;\n",
    "        esac\n",
    "    done\n",
    "    echo $name is $age years old\n",
    "}\n",
    "\n",
    "bar -n \"Jim\"\n",
    "#echo\n",
    "bar -a 30 -n Ana\n",
    "echo \"Exit status \"$?\n",
    "echo\n",
    "bar -a 30 -b Ana"
   ]
  },
  {
   "cell_type": "markdown",
   "id": "32b112bc",
   "metadata": {},
   "source": [
    "### Combining bash commands"
   ]
  },
  {
   "cell_type": "code",
   "execution_count": null,
   "id": "c5dd01e7",
   "metadata": {},
   "outputs": [],
   "source": [
    "# Contains any executable"
   ]
  },
  {
   "cell_type": "code",
   "execution_count": null,
   "id": "5a6ba33e",
   "metadata": {},
   "outputs": [],
   "source": []
  },
  {
   "cell_type": "markdown",
   "id": "6f974dba",
   "metadata": {},
   "source": [
    "## File manipulation utilities"
   ]
  },
  {
   "cell_type": "markdown",
   "id": "9bd3c246",
   "metadata": {},
   "source": [
    "## Text manipulation utilities"
   ]
  },
  {
   "cell_type": "markdown",
   "id": "f53b385b",
   "metadata": {},
   "source": [
    "## Plotting utilities"
   ]
  }
 ],
 "metadata": {
  "kernelspec": {
   "display_name": "Python 3 (ipykernel)",
   "language": "python",
   "name": "python3"
  },
  "language_info": {
   "codemirror_mode": {
    "name": "ipython",
    "version": 3
   },
   "file_extension": ".py",
   "mimetype": "text/x-python",
   "name": "python",
   "nbconvert_exporter": "python",
   "pygments_lexer": "ipython3",
   "version": "3.8.13"
  }
 },
 "nbformat": 4,
 "nbformat_minor": 5
}
